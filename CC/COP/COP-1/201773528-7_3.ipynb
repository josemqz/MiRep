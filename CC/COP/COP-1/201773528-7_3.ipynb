{
 "cells": [
  {
   "cell_type": "markdown",
   "metadata": {},
   "source": [
    "<center>\n",
    "    <img src=\"http://sct.inf.utfsm.cl/wp-content/uploads/2020/04/logo_di.png\" style=\"width:60%\">\n",
    "    <h1> INF285/ILI285 Computación Científica </h1>\n",
    "    <h1> COP-1</h1>\n",
    "</center>\n",
    "\n",
    "Nombre:José Miguel Quezada Silva\n",
    "\n",
    "Rol: 201773528-7"
   ]
  },
  {
   "cell_type": "markdown",
   "metadata": {},
   "source": [
    "# Pregunta 3:"
   ]
  },
  {
   "cell_type": "markdown",
   "metadata": {},
   "source": [
    "## (b)"
   ]
  },
  {
   "cell_type": "code",
   "execution_count": 20,
   "metadata": {},
   "outputs": [],
   "source": [
    "import numpy as np\n",
    "\n",
    "def obtener_tc(beta, dbeta, ddbeta, gamma, dgamma, ddgamma, t0, n_max):\n",
    "    \n",
    "    aprox = []\n",
    "    \n",
    "    #función velocidad\n",
    "    v = lambda t: dbeta(t)*t + beta(t) + 0.5 * dgamma(t) * t**2 + gamma(t)*t\n",
    "    dv = lambda t: ddbeta(t)*t + 2*dbeta(t) + 0.5 * ddgamma(t) * t**2 + 2* dgamma(t) * t + gamma(t)\n",
    "    \n",
    "    t = t0\n",
    "    i = 0\n",
    "    while i < n_max:\n",
    "        \n",
    "        #se quiere llegar a la raiz de la derivada (v = 0), así que la doble derivada != 0\n",
    "        #entonces\n",
    "        \n",
    "        ult_t = t\n",
    "        t = t - v(t)/dv(t)\n",
    "        \n",
    "        if ult_t != t:\n",
    "            aprox.append(t)\n",
    "        \n",
    "        if v(t) == 0 or ult_t == t:\n",
    "            return aprox\n",
    "        \n",
    "        i += 1\n",
    "    \n",
    "    return aprox"
   ]
  },
  {
   "cell_type": "markdown",
   "metadata": {},
   "source": [
    "\n",
    "## (c)"
   ]
  },
  {
   "cell_type": "markdown",
   "metadata": {},
   "source": [
    "### 1."
   ]
  },
  {
   "cell_type": "code",
   "execution_count": 22,
   "metadata": {},
   "outputs": [
    {
     "name": "stdout",
     "output_type": "stream",
     "text": [
      "[0.7500000000000016, 0.7688107149664892, 0.7682040672358066, 0.7682035222988022, 0.7682035222983601]\n"
     ]
    }
   ],
   "source": [
    "pi = np.pi\n",
    "\n",
    "beta = lambda t: 2 * np.sin(2*pi*t) + t**2\n",
    "dbeta = lambda t: 4 * pi * np.cos(2*pi*t) + 2*t\n",
    "ddbeta = lambda t: -8 * pi**2 * np.sin(2*pi*t) + 2\n",
    "\n",
    "gamma = lambda t: -t\n",
    "dgamma = lambda t: -1\n",
    "ddgamma = lambda t: 0\n",
    "\n",
    "n_max = 100\n",
    "\n",
    "aprox_t = obtener_tc(beta, dbeta, ddbeta, gamma, dgamma, ddgamma, 1.5, n_max)\n",
    "print(aprox_t)"
   ]
  },
  {
   "cell_type": "markdown",
   "metadata": {},
   "source": [
    "### 2."
   ]
  },
  {
   "cell_type": "code",
   "execution_count": 47,
   "metadata": {},
   "outputs": [
    {
     "name": "stdout",
     "output_type": "stream",
     "text": [
      "Error lineal  \t\t |       Error cuadrático\n",
      "0.03225011551997984 \t |\t 1.714454531762094\n",
      "0.0008982758474947526 \t |\t 1.4807206918650329\n",
      "8.112695684606979e-07 \t |\t 1.4887400963703585\n"
     ]
    }
   ],
   "source": [
    "print(\"Error lineal  \\t\\t |       Error cuadrático\")\n",
    "for j in range(1, len(aprox_t) - 1):\n",
    "    \n",
    "    e_ant = abs(aprox_t[j-1] - aprox_t[j])\n",
    "    e_act = abs(aprox_t[j+1] - aprox_t[j])\n",
    "\n",
    "\n",
    "    print(e_act/e_ant, \"\\t |\\t\", e_act/e_ant**2)"
   ]
  },
  {
   "cell_type": "markdown",
   "metadata": {},
   "source": [
    "## (d)"
   ]
  },
  {
   "cell_type": "markdown",
   "metadata": {},
   "source": [
    "### 1."
   ]
  },
  {
   "cell_type": "code",
   "execution_count": 57,
   "metadata": {},
   "outputs": [
    {
     "name": "stdout",
     "output_type": "stream",
     "text": [
      "2.7916666666666665\n",
      "2.9014336917562713\n",
      "2.951872248042124\n",
      "2.9762020198338113\n",
      "2.988164951465618\n",
      "2.994098162655877\n",
      "2.9970529668027504\n",
      "2.9985274503013595\n",
      "2.9992639663209757\n",
      "2.9996320433839965\n",
      "2.9998160367374775\n",
      "2.9999080221294876\n",
      "2.999954011996231\n",
      "2.9999770062262963\n",
      "2.9999885031848903\n",
      "2.999994251630817\n",
      "2.9999971257902045\n",
      "2.9999985629245898\n",
      "2.99999928178087\n",
      "2.9999996409561396\n",
      "2.99999981961461\n",
      "2.9999999137135696\n",
      "2.9999999594618956\n",
      "2.9999999984125054\n"
     ]
    }
   ],
   "source": [
    "beta2 = lambda t: 27 - 27 * t + 9 * t**2 - t**3\n",
    "dbeta2 = lambda t: -27 + 18 * t - 3 * t**2\n",
    "ddbeta2 = lambda t: 18 - 6 * t\n",
    "\n",
    "gamma2 = lambda t: 0\n",
    "dgamma2 = lambda t: 0\n",
    "ddgamma2 = lambda t: 0\n",
    "\n",
    "n_max = 100\n",
    "\n",
    "aprox_t2 = obtener_tc(beta2, dbeta2, ddbeta2, gamma2, dgamma2, ddgamma2, 2.5, n_max)\n",
    "for z in range(len(aprox_t2)):\n",
    "    print(aprox_t2[z])"
   ]
  },
  {
   "cell_type": "markdown",
   "metadata": {},
   "source": [
    "### 2."
   ]
  },
  {
   "cell_type": "code",
   "execution_count": 73,
   "metadata": {},
   "outputs": [
    {
     "name": "stdout",
     "output_type": "stream",
     "text": [
      "Error lineal  \t\t |       Error cuadrático\n",
      "0.4595055413470375 \t |\t 4.186189258312639\n",
      "0.4823645556744737 \t |\t 9.563409248685616\n",
      "0.4916992947666777 \t |\t 20.20977833152862\n",
      "0.49596632103820454 \t |\t 41.45859362094302\n",
      "0.49801095092058384 \t |\t 83.93615783274706\n",
      "0.499012261157586 \t |\t 168.88167078200613\n",
      "0.4995078075210546 \t |\t 338.7679875646208\n",
      "0.49975432063592345 \t |\t 678.538290173694\n",
      "0.4998772593191578 \t |\t 1358.07772213978\n",
      "0.499938667727557 \t |\t 2717.156126941236\n",
      "0.4999692422714958 \t |\t 5435.311317875985\n",
      "0.4999847073637762 \t |\t 10871.627659944948\n",
      "0.49999319661326447 \t |\t 21744.289554039722\n",
      "0.4999970974762392 \t |\t 43489.51015058522\n",
      "0.49998894030940955 \t |\t 86978.10620021426\n",
      "0.5000190287236104 \t |\t 173970.52888556797\n",
      "0.500201155609159 \t |\t 348054.54572287167\n",
      "0.4996482320315276 \t |\t 695059.9803304377\n",
      "0.49741306097069193 \t |\t 1384875.5835180557\n",
      "0.5266974446207985 \t |\t 2948068.702888253\n",
      "0.4861724948395886 \t |\t 5166608.602337538\n",
      "0.8514106031920922 \t |\t 18610748.793038797\n"
     ]
    }
   ],
   "source": [
    "print(\"Error lineal  \\t\\t |       Error cuadrático\")\n",
    "for k in range(1, len(aprox_t2) - 1):\n",
    "    \n",
    "    e_ant = abs(aprox_t2[k] - aprox_t2[k-1])\n",
    "    e_act = abs(aprox_t2[k+1] - aprox_t2[k])\n",
    "    \n",
    "    print(e_act/e_ant, \"\\t |\\t\", e_act/e_ant**2)"
   ]
  }
 ],
 "metadata": {
  "kernelspec": {
   "display_name": "Python 3",
   "language": "python",
   "name": "python3"
  },
  "language_info": {
   "codemirror_mode": {
    "name": "ipython",
    "version": 3
   },
   "file_extension": ".py",
   "mimetype": "text/x-python",
   "name": "python",
   "nbconvert_exporter": "python",
   "pygments_lexer": "ipython3",
   "version": "3.6.9"
  }
 },
 "nbformat": 4,
 "nbformat_minor": 4
}
