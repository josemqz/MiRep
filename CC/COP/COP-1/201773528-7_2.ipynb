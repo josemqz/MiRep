{
 "cells": [
  {
   "cell_type": "markdown",
   "metadata": {},
   "source": [
    "<center>\n",
    "    <img src=\"http://sct.inf.utfsm.cl/wp-content/uploads/2020/04/logo_di.png\" style=\"width:60%\">\n",
    "    <h1> INF285/ILI285 Computación Científica </h1>\n",
    "    <h1> COP-1</h1>\n",
    "</center>\n",
    "\n",
    "Nombre:José Miguel Quezada Silva\n",
    "\n",
    "Rol: 201773528-7"
   ]
  },
  {
   "cell_type": "markdown",
   "metadata": {},
   "source": [
    "# Pregunta 2"
   ]
  },
  {
   "cell_type": "markdown",
   "metadata": {},
   "source": [
    "## (a)"
   ]
  },
  {
   "cell_type": "code",
   "execution_count": 31,
   "metadata": {},
   "outputs": [],
   "source": [
    "def biseccion(a, b, n_max):\n",
    "    \n",
    "    f = lambda x: (x**10 - 10**x) / x\n",
    "    \n",
    "    x = 0\n",
    "    i = 0\n",
    " \n",
    "    while i < n_max:\n",
    "\n",
    "        x_ant = x\n",
    "        x = float('%.7f'%((a + b) / 2))\n",
    "        \n",
    "        #print(x)\n",
    "\n",
    "        if f(x) == 0 or x_ant == x:\n",
    "            return x\n",
    "\n",
    "        elif f(x) * f(b) < 0:\n",
    "            a = x\n",
    "\n",
    "        else:\n",
    "            b = x\n",
    "\n",
    "        i += 1\n",
    "\n",
    "    return x\n"
   ]
  },
  {
   "cell_type": "code",
   "execution_count": 32,
   "metadata": {},
   "outputs": [
    {
     "name": "stdout",
     "output_type": "stream",
     "text": [
      "raiz positiva: 1.3712886\n",
      "raiz negativa: -0.8266714\n"
     ]
    }
   ],
   "source": [
    "print(\"raiz positiva:\", biseccion(0.00001,2,1000))\n",
    "print(\"raiz negativa:\", biseccion(-2,-0.00001,1000))"
   ]
  }
 ],
 "metadata": {
  "kernelspec": {
   "display_name": "Python 3",
   "language": "python",
   "name": "python3"
  },
  "language_info": {
   "codemirror_mode": {
    "name": "ipython",
    "version": 3
   },
   "file_extension": ".py",
   "mimetype": "text/x-python",
   "name": "python",
   "nbconvert_exporter": "python",
   "pygments_lexer": "ipython3",
   "version": "3.6.9"
  }
 },
 "nbformat": 4,
 "nbformat_minor": 4
}
