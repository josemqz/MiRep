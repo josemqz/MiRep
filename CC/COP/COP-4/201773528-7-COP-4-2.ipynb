{
 "cells": [
  {
   "cell_type": "markdown",
   "metadata": {},
   "source": [
    "<center>\n",
    "    <img src=\"http://sct.inf.utfsm.cl/wp-content/uploads/2020/04/logo_di.png\" style=\"width:60%\">\n",
    "    <h1> INF285/ILI285 Computación Científica </h1>\n",
    "    <h1> COP-4</h1>\n",
    "</center>\n",
    "\n",
    "## <span style=\"color:blue\">Nombre</span>: José Miguel Quezada Silva\n",
    "\n",
    "## <span style=\"color:blue\">Rol</span>: 201773528-7"
   ]
  },
  {
   "cell_type": "markdown",
   "metadata": {},
   "source": [
    "# Librerías"
   ]
  },
  {
   "cell_type": "code",
   "execution_count": 3,
   "metadata": {},
   "outputs": [],
   "source": [
    "import numpy as np"
   ]
  },
  {
   "cell_type": "markdown",
   "metadata": {},
   "source": [
    "# Desarrollo"
   ]
  },
  {
   "cell_type": "code",
   "execution_count": 4,
   "metadata": {},
   "outputs": [],
   "source": [
    "X1 = np.load(\"X1-0.npy\")\n",
    "Y1 = np.load(\"Y1-0.npy\")\n",
    "X2 = np.load(\"X2-0.npy\")\n",
    "Y2 = np.load(\"Y2-0.npy\")\n",
    "Yt = np.load(\"Yt-0.npy\")"
   ]
  },
  {
   "cell_type": "code",
   "execution_count": null,
   "metadata": {},
   "outputs": [],
   "source": []
  },
  {
   "cell_type": "code",
   "execution_count": 7,
   "metadata": {
    "scrolled": true
   },
   "outputs": [
    {
     "data": {
      "text/plain": [
       "122.15594176011744"
      ]
     },
     "execution_count": 7,
     "metadata": {},
     "output_type": "execute_result"
    }
   ],
   "source": [
    "W1 = np.linalg.solve(X1, Y1)\n",
    "np.linalg.norm(W1, ord=\"fro\")"
   ]
  },
  {
   "cell_type": "code",
   "execution_count": null,
   "metadata": {},
   "outputs": [],
   "source": []
  },
  {
   "cell_type": "code",
   "execution_count": 10,
   "metadata": {},
   "outputs": [
    {
     "data": {
      "text/plain": [
       "67.67795024665527"
      ]
     },
     "execution_count": 10,
     "metadata": {},
     "output_type": "execute_result"
    }
   ],
   "source": [
    "W2 = np.linalg.solve(X2.T, Y2.T)\n",
    "np.linalg.norm(W2, ord=\"fro\")"
   ]
  },
  {
   "cell_type": "code",
   "execution_count": 12,
   "metadata": {},
   "outputs": [],
   "source": []
  },
  {
   "cell_type": "code",
   "execution_count": 19,
   "metadata": {},
   "outputs": [
    {
     "data": {
      "text/plain": [
       "120.16699536176013"
      ]
     },
     "execution_count": 19,
     "metadata": {},
     "output_type": "execute_result"
    }
   ],
   "source": [
    "\n",
    "#P(X) = Y1(X−X2)(X1−X2)**-1 + Y2(X−X1)(X2−X1)**−1\n",
    "\n",
    "#A = Y1(X−X2)(X1−X2)**-1\n",
    "#B = Y2(X−X1)(X2−X1)**−1\n",
    "#P(X) = A + B\n",
    "\n",
    "#A(X1-X2) = Y1(X-X2)\n",
    "#(X1-X2).T A.T = (X-X2).T Y1.T\n",
    "\n",
    "A = lambda X: np.linalg.solve((X1-X2).T, (X-X2).T @ Y1.T)\n",
    "\n",
    "#B(X2-X1) = Y2(X-X1)\n",
    "#(X2-X1).T B.T = (X-X1).T Y2.T\n",
    "\n",
    "B = lambda X: np.linalg.solve((X2-X1).T, (X-X1).T @ Y2.T)\n",
    "\n",
    "P = lambda X: A(X) + B(X)\n",
    "\n",
    "np.linalg.norm(P(np.zeros_like(X1)), ord=\"fro\")"
   ]
  },
  {
   "cell_type": "code",
   "execution_count": null,
   "metadata": {},
   "outputs": [],
   "source": []
  },
  {
   "cell_type": "code",
   "execution_count": null,
   "metadata": {},
   "outputs": [],
   "source": [
    "# 0 = Y1@(X - X2)@(X1 - X2)-1 + Y2@(X - X1)@(X2 - X1)-1 - Yt\n",
    "\n",
    "#(X1-X2).T C.T = (X - X2) Y1.T\n",
    "\n",
    "#(X2 - X1).T D.T = (X - X1).T Y2.T\n",
    "\n",
    "\n",
    "C = lambda X: np.linalg.solve((X1-X2).T, (X-X2).T @ Y1.T)\n",
    "\n",
    "D = lambda X: np.linalg.solve((X2-X1).T, (X-X1).T @ Y2.T)\n",
    "\n",
    "P1 = lambda X: A1(X) + B1(X)\n",
    "\n",
    "np.linalg.norm(P1(np.zeros_like(X1)), ord=\"fro\")\n",
    "\n"
   ]
  }
 ],
 "metadata": {
  "kernelspec": {
   "display_name": "Python 3",
   "language": "python",
   "name": "python3"
  }
 },
 "nbformat": 4,
 "nbformat_minor": 4
}
