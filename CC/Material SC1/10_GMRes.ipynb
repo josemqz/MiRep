{
 "cells": [
  {
   "cell_type": "markdown",
   "metadata": {},
   "source": [
    "<center>\n",
    "    <h1> ILI285 - Computación Científica I  / INF285 - Computación Científica </h1>\n",
    "    <h2> Generalized Minimal Residual Method </h2>\n",
    "    <h2> [[S]cientific [C]omputing [T]eam](#acknowledgements)</h2>\n",
    "    <h2> Version: 1.2</h2>\n",
    "</center>"
   ]
  },
  {
   "cell_type": "markdown",
   "metadata": {},
   "source": [
    "## Table of Contents\n",
    "* [Introduction](#intro)\n",
    "* [Short reminder about Least Squares](#LS)\n",
    "* [GMRes](#GMR)\n",
    "* [Theoretical Problems](#TP)\n",
    "* [Practical Problems](#PP)\n",
    "* [Acknowledgements](#acknowledgements)"
   ]
  },
  {
   "cell_type": "code",
   "execution_count": 8,
   "metadata": {},
   "outputs": [],
   "source": [
    "import numpy as np\n",
    "import scipy as sp\n",
    "from scipy import linalg as la\n",
    "import matplotlib.pyplot as plt\n",
    "import scipy.sparse.linalg\n",
    "%matplotlib inline\n",
    "#%load_ext memory_profiler\n",
    "import matplotlib as mpl\n",
    "mpl.rcParams['font.size'] = 14\n",
    "mpl.rcParams['axes.labelsize'] = 20\n",
    "mpl.rcParams['xtick.labelsize'] = 14\n",
    "mpl.rcParams['ytick.labelsize'] = 14\n",
    "M=8"
   ]
  },
  {
   "cell_type": "markdown",
   "metadata": {},
   "source": [
    "<div id='intro' />\n",
    "## Introduction\n",
    "\n",
    "Welcome to another edition of our Jupyter Notebooks. A few notebooks back, we saw that the Conjugate Gradient Method, an iterative method, was very useful to solve $A\\,\\mathbf{x}=\\mathbf{b}$ but it only worked when $A$ was positive definite and symmetric. So now we need an iterative method that works with nonsymmetric linear system of equations, and for that we have the Generalized Minimum Residual Method (GMRes). It works really well for finding the solution of large, sparse (and dense as well), nonsymmetric linear systems of equations. Of course, it will also have trouble for ill-conditioned linear system of equations. But it is really easy to add a left or right or both preconditioners!"
   ]
  },
  {
   "cell_type": "markdown",
   "metadata": {},
   "source": [
    "<div id='LS' />\n",
    "## A quick review on Least Squares"
   ]
  },
  {
   "cell_type": "markdown",
   "metadata": {},
   "source": [
    "Least Squares is used to solve overdetemined linear systems of equations $A\\,\\mathbf{x} = \\mathbf{b}$. That is, for example, a linear system of equations where there are more equations than unknowns. It finds the _best_ $\\overline{\\mathbf{x}}$ so that it minimizes the euclidean length of $\\mathbf{r} = \\mathbf{b} - A\\,\\mathbf{x}$.\n",
    "\n",
    "So, you might be wondering, what does Least Squares have to do with GMRes? WELL, since you're dying to know, I'll tell you: the backward error of the system in GMRes is minimized at each iteration step using a Least Squares formulation."
   ]
  },
  {
   "cell_type": "markdown",
   "metadata": {},
   "source": [
    "<div id='GMR' />\n",
    "## GMRes\n",
    "\n",
    "GMRes is a member of the family of Krylov methods. It finds an approximation of $\\mathbf{x}$ restricted to _live_ on the Krylov sub-space $\\mathcal{K_k}$,  where $\\mathcal{K_k}=\\{\\mathbf{r}_0, A\\,\\mathbf{r}_0, A^2\\,\\mathbf{r}_0, \\cdots, A^{k-1}\\,\\mathbf{r}_0\\}$ and $\\mathbf{r}_0 = \\mathbf{b} - A\\,\\mathbf{x}_0$ is the residual vector of the initial guess.\n",
    "\n",
    "The idea behind this method is to look for improvements to the initial guess $\\mathbf{x}_0$ in the Krylov space. At the $k$-th iteration, we enlarge the Krylov space by adding $A^k\\,\\mathbf{r}_0$, reorthogonalize the basis, and then use least squares to find the best improvement to add to $\\mathbf{x}_0$.\n",
    "\n",
    "The algorithm is as follows:"
   ]
  },
  {
   "cell_type": "markdown",
   "metadata": {},
   "source": [
    "`Generalized Minimum Residual Method`\n",
    "\n",
    "$\\mathbf{x}_0$ `= initial guess`<br>\n",
    "$\\mathbf{r}$ `=` $\\mathbf{b} - A\\,\\mathbf{x}_0$<br>\n",
    "$\\mathbf{q}_1$ `=` $\\mathbf{r} / \\|\\mathbf{r}\\|_2$<br>\n",
    "`for` $k = 1, ..., m$<br>\n",
    "$\\qquad \\ \\ \\mathbf{y} = A\\,\\mathbf{q}_k$<br>\n",
    "$\\qquad$ `for` $j = 1,2,...,k$ <br>\n",
    "$\\qquad \\qquad$ $h_{jk} = \\mathbf{q}_j^*\\,\\mathbf{y}$<br>\n",
    "$\\qquad \\qquad$ $\\mathbf{y} = \\mathbf{y} - h_{jk}\\, \\mathbf{q}_j$<br>\n",
    "$\\qquad$ `end`<br>\n",
    "$\\qquad \\ h_{k+1,k} = \\|y\\|_2 \\qquad$ `(If ` $h_{k+1,k} = 0$ `, skip next line and terminate at bottom.)` <br>\n",
    "$\\qquad \\ \\mathbf{q}_{k+1} = \\mathbf{y}/h_{k+1,k}$ <br>\n",
    "$\\qquad$ `Minimize` $\\left\\|\\widehat{H}_k\\, \\mathbf{c}_k - [\\|\\mathbf{r}\\|_2 \\ 0 \\ 0 \\ ... \\ 0]^T \\right\\|_2$ `for` $\\mathbf{c}_k$ <br>\n",
    "$\\qquad$ $\\mathbf{x}_k = Q_k \\, \\mathbf{c}_k + \\mathbf{x}_0$ <br>\n",
    "`end`"
   ]
  },
  {
   "cell_type": "markdown",
   "metadata": {},
   "source": [
    "Now we have to implement it."
   ]
  },
  {
   "cell_type": "code",
   "execution_count": 2,
   "metadata": {},
   "outputs": [],
   "source": [
    "# This is a very instructive implementation of GMRes.\n",
    "def GMRes(A, b, x0=np.array([0.0]), m=10, flag_display=True, threshold=1e-12):\n",
    "    n = len(b)\n",
    "    if len(x0)==1:\n",
    "        x0=np.zeros(n)\n",
    "    r0 = b - np.dot(A, x0)\n",
    "    nr0=np.linalg.norm(r0)\n",
    "    out_res=np.array(nr0)\n",
    "    Q = np.zeros((n,n))\n",
    "    H = np.zeros((n,n))\n",
    "    Q[:,0] = r0 / nr0\n",
    "    flag_break=False\n",
    "    for k in np.arange(np.min((m,n))):\n",
    "        y = np.dot(A, Q[:,k])\n",
    "        if flag_display:\n",
    "            print('||y||=',np.linalg.norm(y))\n",
    "        for j in np.arange(k+1):\n",
    "            H[j][k] = np.dot(Q[:,j], y)\n",
    "            if flag_display:\n",
    "                print('H[',j,'][',k,']=',H[j][k])\n",
    "            y = y - np.dot(H[j][k],Q[:,j])\n",
    "            if flag_display:\n",
    "                print('||y||=',np.linalg.norm(y))\n",
    "        # All but the last equation are treated equally. Why?\n",
    "        if k+1<n:\n",
    "            H[k+1][k] = np.linalg.norm(y)\n",
    "            if flag_display:\n",
    "                print('H[',k+1,'][',k,']=',H[k+1][k])\n",
    "            if (np.abs(H[k+1][k]) > 1e-16):\n",
    "                Q[:,k+1] = y/H[k+1][k]\n",
    "            else:\n",
    "                print('flag_break has been activated')\n",
    "                flag_break=True\n",
    "            # Do you remember e_1? The canonical vector.\n",
    "            e1 = np.zeros((k+1)+1)        \n",
    "            e1[0]=1\n",
    "            H_tilde=H[0:(k+1)+1,0:k+1]\n",
    "        else:\n",
    "            H_tilde=H[0:k+1,0:k+1]\n",
    "        # Solving the 'SMALL' least square problem. \n",
    "        # This could be improved with Givens rotations!\n",
    "        ck = np.linalg.lstsq(H_tilde, nr0*e1)[0] \n",
    "        if k+1<n:\n",
    "            x = x0 + np.dot(Q[:,0:(k+1)], ck)\n",
    "        else:\n",
    "            x = x0 + np.dot(Q, ck)\n",
    "        # Why is 'norm_small' equal to 'norm_full'?\n",
    "        norm_small=np.linalg.norm(np.dot(H_tilde,ck)-nr0*e1)\n",
    "        out_res = np.append(out_res,norm_small)\n",
    "        if flag_display:\n",
    "            norm_full=np.linalg.norm(b-np.dot(A,x))\n",
    "            print('..........||b-A\\,x_k||=',norm_full)\n",
    "            print('..........||H_k\\,c_k-nr0*e1||',norm_small);\n",
    "        if flag_break:\n",
    "            if flag_display: \n",
    "                print('EXIT: flag_break=True')\n",
    "            break\n",
    "        if norm_small<threshold:\n",
    "            if flag_display:\n",
    "                print('EXIT: norm_small<threshold')\n",
    "            break\n",
    "    return x,out_res"
   ]
  },
  {
   "cell_type": "markdown",
   "metadata": {},
   "source": [
    "## A very simple example"
   ]
  },
  {
   "cell_type": "code",
   "execution_count": 3,
   "metadata": {},
   "outputs": [],
   "source": [
    "A = np.array([[1,1,0],[0,1,0],[0,1,1]])\n",
    "b = np.array([1,2,3])\n",
    "x0 = np.zeros(3)"
   ]
  },
  {
   "cell_type": "code",
   "execution_count": 4,
   "metadata": {},
   "outputs": [
    {
     "name": "stdout",
     "output_type": "stream",
     "text": [
      "||y||= 1.647508942095828\n",
      "H[ 0 ][ 0 ]= 1.5714285714285714\n",
      "||y||= 0.4948716593053935\n",
      "H[ 1 ][ 0 ]= 0.4948716593053935\n",
      "..........||b-A\\,x_k||= 1.1239029738980326\n",
      "..........||H_k\\,c_k-nr0*e1|| 1.1239029738980326\n",
      "||y||= 0.7867957924694432\n",
      "H[ 0 ][ 1 ]= -0.659828879073858\n",
      "||y||= 0.4285714285714286\n",
      "H[ 1 ][ 1 ]= 0.4285714285714286\n",
      "||y||= 2.7755575615628914e-17\n",
      "H[ 2 ][ 1 ]= 2.7755575615628914e-17\n",
      "flag_break has been activated\n",
      "..........||b-A\\,x_k||= 9.992007221626409e-16\n",
      "..........||H_k\\,c_k-nr0*e1|| 8.896640829961128e-16\n",
      "EXIT: flag_break=True\n",
      "--------------------------------\n",
      "x_scipy [-1.  2.  1.]\n",
      "x_our [-1.  2.  1.]\n",
      "x_np [-1.  2.  1.]\n"
     ]
    },
    {
     "name": "stderr",
     "output_type": "stream",
     "text": [
      "/Users/claudio/anaconda3/lib/python3.6/site-packages/ipykernel_launcher.py:42: FutureWarning: `rcond` parameter will change to the default of machine precision times ``max(M, N)`` where M and N are the input matrix dimensions.\n",
      "To use the future default and silence this warning we advise to pass `rcond=None`, to keep using the old, explicitly pass `rcond=-1`.\n"
     ]
    }
   ],
   "source": [
    "# scipy gmres\n",
    "x_scipy = scipy.sparse.linalg.gmres(A,b,x0)[0]\n",
    "# our gmres\n",
    "x_our, _ = GMRes(A, b)\n",
    "# numpy solve\n",
    "x_np= np.linalg.solve(A,b)\n",
    "\n",
    "# Showing the solutions\n",
    "print('--------------------------------')\n",
    "print('x_scipy',x_scipy)\n",
    "print('x_our',x_our)\n",
    "print('x_np',x_np)"
   ]
  },
  {
   "cell_type": "markdown",
   "metadata": {},
   "source": [
    "## Another example, how may iteration does it need to converge?"
   ]
  },
  {
   "cell_type": "code",
   "execution_count": 5,
   "metadata": {},
   "outputs": [
    {
     "name": "stdout",
     "output_type": "stream",
     "text": [
      "||y||= 0.9999999999999999\n",
      "H[ 0 ][ 0 ]= 0.0\n",
      "||y||= 0.9999999999999999\n",
      "H[ 1 ][ 0 ]= 0.9999999999999999\n",
      "..........||b-A\\,x_k||= 1.4142135623730951\n",
      "..........||H_k\\,c_k-nr0*e1|| 1.4142135623730951\n",
      "||y||= 1.0\n",
      "H[ 0 ][ 1 ]= 1.0\n",
      "||y||= 1.5700924586837752e-16\n",
      "H[ 1 ][ 1 ]= 0.0\n",
      "||y||= 1.5700924586837752e-16\n",
      "H[ 2 ][ 1 ]= 1.5700924586837752e-16\n",
      "..........||b-A\\,x_k||= 3.1401849173675503e-16\n",
      "..........||H_k\\,c_k-nr0*e1|| 2.2204460492503136e-16\n",
      "EXIT: norm_small<threshold\n",
      "3.1401849173675503e-16\n"
     ]
    },
    {
     "name": "stderr",
     "output_type": "stream",
     "text": [
      "/Users/claudio/anaconda3/lib/python3.6/site-packages/ipykernel_launcher.py:42: FutureWarning: `rcond` parameter will change to the default of machine precision times ``max(M, N)`` where M and N are the input matrix dimensions.\n",
      "To use the future default and silence this warning we advise to pass `rcond=None`, to keep using the old, explicitly pass `rcond=-1`.\n"
     ]
    }
   ],
   "source": [
    "A = np.array([[0,0,0,1],[1,0,0,0],[0,1,0,0],[0,0,1,0]])\n",
    "b = np.array([1,0,1,0])\n",
    "x_our, _ = GMRes(A, b, m=10)\n",
    "norm_full=np.linalg.norm(b-np.dot(A,x_our))\n",
    "print(norm_full)"
   ]
  },
  {
   "cell_type": "code",
   "execution_count": 6,
   "metadata": {},
   "outputs": [
    {
     "name": "stdout",
     "output_type": "stream",
     "text": [
      "||y||= 14.487771528768095\n",
      "H[ 0 ][ 0 ]= 14.344742606867056\n",
      "||y||= 2.0307346977181284\n",
      "H[ 1 ][ 0 ]= 2.0307346977181284\n",
      "..........||b-A\\,x_k||= 0.26758506784697417\n",
      "..........||H_k\\,c_k-nr0*e1|| 0.26758506784697406\n",
      "||y||= 10.325521127879725\n",
      "H[ 0 ][ 1 ]= 1.8871583428283905\n",
      "||y||= 10.151601841649612\n",
      "H[ 1 ][ 1 ]= 10.13285943150067\n",
      "||y||= 0.616587133203184\n",
      "H[ 2 ][ 1 ]= 0.616587133203184\n",
      "..........||b-A\\,x_k||= 0.016856746305809862\n",
      "..........||H_k\\,c_k-nr0*e1|| 0.016856746305809783\n",
      "||y||= 10.232672730966014\n",
      "H[ 0 ][ 2 ]= 1.0304478696356436\n",
      "||y||= 10.180656580349758\n",
      "H[ 1 ][ 2 ]= 0.03800772348427306\n",
      "||y||= 10.180585632466062\n",
      "H[ 2 ][ 2 ]= 10.1130360703164\n",
      "||y||= 1.170822471792279\n",
      "H[ 3 ][ 2 ]= 1.170822471792279\n",
      "..........||b-A\\,x_k||= 0.0019411472409557762\n",
      "..........||H_k\\,c_k-nr0*e1|| 0.0019411472409556554\n",
      "||y||= 9.785598341190836\n",
      "H[ 0 ][ 3 ]= -0.07512733832000817\n",
      "||y||= 9.785309947986002\n",
      "H[ 1 ][ 3 ]= -0.057690070192138565\n",
      "||y||= 9.785139888318154\n",
      "H[ 2 ][ 3 ]= 0.22688765460709504\n",
      "||y||= 9.782509117099861\n",
      "H[ 3 ][ 3 ]= 9.774642749541561\n",
      "||y||= 0.3922291995459664\n",
      "H[ 4 ][ 3 ]= 0.3922291995459664\n",
      "..........||b-A\\,x_k||= 7.85639590738749e-05\n",
      "..........||H_k\\,c_k-nr0*e1|| 7.856395907382939e-05\n",
      "||y||= 10.417858239163616\n",
      "H[ 0 ][ 4 ]= -0.3517791297571158\n",
      "||y||= 10.41191729390781\n",
      "H[ 1 ][ 4 ]= -0.3824429247330744\n",
      "||y||= 10.404891116417229\n",
      "H[ 2 ][ 4 ]= -0.28890535706337817\n",
      "||y||= 10.400879426238834\n",
      "H[ 3 ][ 4 ]= -0.043119416593389914\n",
      "||y||= 10.400790044754817\n",
      "H[ 4 ][ 4 ]= 10.389019581905623\n",
      "||y||= 0.4946773512628294\n",
      "H[ 5 ][ 4 ]= 0.4946773512628294\n",
      "..........||b-A\\,x_k||= 3.739503455684014e-06\n",
      "..........||H_k\\,c_k-nr0*e1|| 3.7395034557893774e-06\n",
      "||y||= 9.524193603300604\n",
      "H[ 0 ][ 5 ]= 0.07365777845469945\n",
      "||y||= 9.523908773440938\n",
      "H[ 1 ][ 5 ]= -0.175402055875033\n",
      "||y||= 9.522293444523756\n",
      "H[ 2 ][ 5 ]= -0.4337552744605673\n",
      "||y||= 9.512409200906873\n",
      "H[ 3 ][ 5 ]= 0.3116769698503101\n",
      "||y||= 9.507301734559743\n",
      "H[ 4 ][ 5 ]= 0.098519665409421\n",
      "||y||= 9.506791264537698\n",
      "H[ 5 ][ 5 ]= 9.481767020486746\n",
      "||y||= 0.6893288886302117\n",
      "H[ 6 ][ 5 ]= 0.6893288886302117\n",
      "..........||b-A\\,x_k||= 2.715680564724522e-07\n",
      "..........||H_k\\,c_k-nr0*e1|| 2.715680565282856e-07\n",
      "||y||= 10.121921265643216\n",
      "H[ 0 ][ 6 ]= -0.25383419557064535\n",
      "||y||= 10.118737980056574\n",
      "H[ 1 ][ 6 ]= 0.15884386283864504\n",
      "||y||= 10.117491138433376\n",
      "H[ 2 ][ 6 ]= -0.01890530757229364\n",
      "||y||= 10.117473475409929\n",
      "H[ 3 ][ 6 ]= -0.17743041808594073\n",
      "||y||= 10.11591755464433\n",
      "H[ 4 ][ 6 ]= 0.6913718578004022\n",
      "||y||= 10.092264013916944\n",
      "H[ 5 ][ 6 ]= 0.0707654975424965\n",
      "||y||= 10.092015912143644\n",
      "H[ 6 ][ 6 ]= 10.07327409138756\n",
      "||y||= 0.614763573043042\n",
      "H[ 7 ][ 6 ]= 0.614763573043042\n",
      "..........||b-A\\,x_k||= 1.6590904358712334e-08\n",
      "..........||H_k\\,c_k-nr0*e1|| 1.6590904305918905e-08\n",
      "||y||= 10.256821010103376\n",
      "H[ 0 ][ 7 ]= -0.2947266790639884\n",
      "||y||= 10.252585694250302\n",
      "H[ 1 ][ 7 ]= -0.5820209264340727\n",
      "||y||= 10.23605222041871\n",
      "H[ 2 ][ 7 ]= -0.12425043404453101\n",
      "||y||= 10.235298084998723\n",
      "H[ 3 ][ 7 ]= -0.05604416939450507\n",
      "||y||= 10.235144646748056\n",
      "H[ 4 ][ 7 ]= -0.29018770242551284\n",
      "||y||= 10.231030106358618\n",
      "H[ 5 ][ 7 ]= -0.03616959243063533\n",
      "||y||= 10.23096617127629\n",
      "H[ 6 ][ 7 ]= 0.18522462872153378\n",
      "||y||= 10.229289351402413\n",
      "H[ 7 ][ 7 ]= 10.21950649248306\n",
      "||y||= 0.4472669055624262\n",
      "H[ 8 ][ 7 ]= 0.4472669055624262\n",
      "..........||b-A\\,x_k||= 7.275886090747205e-10\n",
      "..........||H_k\\,c_k-nr0*e1|| 7.275885908239069e-10\n",
      "||y||= 10.228796398579453\n",
      "H[ 0 ][ 8 ]= -0.14549454198773726\n",
      "||y||= 10.227761588042798\n",
      "H[ 1 ][ 8 ]= -0.09037549141336809\n",
      "||y||= 10.22736228811689\n",
      "H[ 2 ][ 8 ]= 0.3748608991483119\n",
      "||y||= 10.220490138867376\n",
      "H[ 3 ][ 8 ]= -0.24163091565283923\n",
      "||y||= 10.217633443184681\n",
      "H[ 4 ][ 8 ]= -0.005316723155579961\n",
      "||y||= 10.21763205991197\n",
      "H[ 5 ][ 8 ]= 0.6615668951512613\n",
      "||y||= 10.196192139959939\n",
      "H[ 6 ][ 8 ]= -0.2712871571717721\n",
      "||y||= 10.192582471254992\n",
      "H[ 7 ][ 8 ]= 0.14666840701967876\n",
      "||y||= 10.191527157973766\n",
      "H[ 8 ][ 8 ]= 10.19019905987458\n",
      "||y||= 0.16452638647962725\n",
      "H[ 9 ][ 8 ]= 0.16452638647962725\n",
      "..........||b-A\\,x_k||= 1.1765402420371118e-11\n",
      "..........||H_k\\,c_k-nr0*e1|| 1.1765500607711468e-11\n",
      "||y||= 9.553701482232057\n",
      "H[ 0 ][ 9 ]= 0.20868632677439747\n",
      "||y||= 9.551421989872527\n",
      "H[ 1 ][ 9 ]= -0.12467257273152932\n",
      "||y||= 9.550608293623444\n",
      "H[ 2 ][ 9 ]= 0.4979784943435843\n",
      "||y||= 9.537616903472282\n",
      "H[ 3 ][ 9 ]= 0.26249326769051895\n",
      "||y||= 9.534004063446657\n",
      "H[ 4 ][ 9 ]= 0.2359382960387546\n",
      "||y||= 9.531084230153446\n",
      "H[ 5 ][ 9 ]= 0.015168371989830676\n",
      "||y||= 9.531072160191155\n",
      "H[ 6 ][ 9 ]= 0.10412662709339926\n",
      "||y||= 9.530503353354483\n",
      "H[ 7 ][ 9 ]= -0.2644844753837581\n",
      "||y||= 9.526832743917678\n",
      "H[ 8 ][ 9 ]= 0.0020438123906312278\n",
      "||y||= 9.52683252468589\n",
      "H[ 9 ][ 9 ]= 9.526832523984378\n",
      "||y||= 0.00011561322825438349\n",
      "..........||b-A\\,x_k||= 1.2560739669470201e-15\n",
      "..........||H_k\\,c_k-nr0*e1|| 1.0433986559552725e-15\n",
      "EXIT: norm_small<threshold\n",
      "1.2560739669470201e-15\n"
     ]
    },
    {
     "name": "stderr",
     "output_type": "stream",
     "text": [
      "/Users/claudio/anaconda3/lib/python3.6/site-packages/ipykernel_launcher.py:42: FutureWarning: `rcond` parameter will change to the default of machine precision times ``max(M, N)`` where M and N are the input matrix dimensions.\n",
      "To use the future default and silence this warning we advise to pass `rcond=None`, to keep using the old, explicitly pass `rcond=-1`.\n"
     ]
    }
   ],
   "source": [
    "A = np.random.rand(10,10)+10*np.eye(10)\n",
    "b = np.random.rand(10)\n",
    "x_our, out_res = GMRes(A, b, m=10,flag_display=True)\n",
    "norm_full=np.linalg.norm(b-np.dot(A,x_our))\n",
    "print(norm_full)"
   ]
  },
  {
   "cell_type": "markdown",
   "metadata": {},
   "source": [
    "## Plotting the residual over the iterations"
   ]
  },
  {
   "cell_type": "code",
   "execution_count": 7,
   "metadata": {},
   "outputs": [
    {
     "data": {
      "image/png": "[encoded data removed]",
      "text/plain": [
       "<matplotlib.figure.Figure at 0x10f2f2898>"
      ]
     },
     "metadata": {},
     "output_type": "display_data"
    }
   ],
   "source": [
    "plt.figure(figsize=(M,M))\n",
    "plt.semilogy(out_res,'.k',markersize=20,label='residual')\n",
    "plt.grid(True)\n",
    "plt.xlabel(r'$k$')\n",
    "plt.ylabel(r'$\\|\\mathbf{b}-A\\,\\mathbf{x}_k\\|_2$')\n",
    "plt.grid(True)\n",
    "plt.show()"
   ]
  },
  {
   "cell_type": "markdown",
   "metadata": {},
   "source": [
    "<div id='TP' />\n",
    "## Theoretical Problems"
   ]
  },
  {
   "cell_type": "markdown",
   "metadata": {},
   "source": [
    "1. Prove that in GMRES method, the backward error $||b- Ax_k||$ decreases monotonically with k.\n",
    "2. What would happen if we pass a singular matrix $A$ to the previous implementation of GMRes?\n",
    "3. Prove that for\n",
    "\\begin{equation}\n",
    "A=\n",
    "\\left[\n",
    "\\begin{array}{c|c}\n",
    "I & C \\\\\n",
    "\\hline\n",
    "0 & I\n",
    "\\end{array}\n",
    "\\right]\n",
    "\\end{equation}\n",
    "and any $x_0$ and $b$, GMRES converges to the exact solution after **two** steps. Here $C$ is a $m_1 \\times m_2$ submatrix, $0$ denotes the $m_2 \\times m_1$ matrix of zeros, and $I$ denotes the appropiate-sized identity matrix."
   ]
  },
  {
   "cell_type": "markdown",
   "metadata": {},
   "source": [
    "<div id='PP' />\n",
    "## Practical Problems"
   ]
  },
  {
   "cell_type": "markdown",
   "metadata": {},
   "source": [
    "1. A possible improvement to the present algorithm consists on taking out of the loop the least squares computations, since the _Krylov_ subspace spaned by $Q_k$ doesn't depend on previous least squares calculations.\n",
    "    * Verify the truth of the above statement.\n",
    "    * Verify if it is really an improvement.\n",
    "    * Implement it.\n",
    "    * Test both implementations using `%timeit`\n",
    "1. The GMRES method is meant for huge $n\\times n$ sparse matrices $A$. In most cases, the goal is to run the method for $k$ steps (with $k << n$), reducing the complexity of the subproblems (Least squares). Neverthless for $k$ values too small, the solution $x_k$ could be not as good as needed. So to keep the values $k$ small and avoid bad solutions, there exists a variation of the algorithm known as **Restarted GMRES**: If no enough progress is made toward the solution after $k$ iterations, discard $Q_k$ and start GMRES from the beginning, using the current best guess $x_k$ as the new $x_0$.\n",
    "    * Implement the Restarted GMRES method. Introduce a tolerance parameter to stop restarting.\n",
    "    * Compare the asymptotic operation count and storage requirements of GMRES and Restarted GMRES, for fixed $k$ and increasing $n$.\n",
    "    * Execute it on a _huge_ linear system $A x = b$, and compare the solution with the solution of standard GMRES. Keep a value of $k$ small, and count how many times Restarted GMRES has to restart. Perform benchmarks using `%timeit` and `%memit` and verify the results.\n",
    "    * Describe an example in which Restared GMRES can be expected to fail to converge, whereas GMRES succeds."
   ]
  },
  {
   "cell_type": "markdown",
   "metadata": {},
   "source": [
    "<div id='acknowledgements' />\n",
    "# Acknowledgements\n",
    "* _Material created by professor Claudio Torres_ (`ctorres@inf.utfsm.cl`) _and assistants: Laura Bermeo, Alvaro Salinas, Axel Simonsen and Martín Villanueva. DI UTFSM. April 2016._\n",
    "* _Material updated by professor Claudio Torres_ (`ctorres@inf.utfsm.cl`). DI UTFSM. June 2017."
   ]
  },
  {
   "cell_type": "code",
   "execution_count": null,
   "metadata": {},
   "outputs": [],
   "source": []
  }
 ],
 "metadata": {
  "anaconda-cloud": {},
  "kernelspec": {
   "display_name": "Python 3",
   "language": "python",
   "name": "python3"
  },
  "language_info": {
   "codemirror_mode": {
    "name": "ipython",
    "version": 3
   },
   "file_extension": ".py",
   "mimetype": "text/x-python",
   "name": "python",
   "nbconvert_exporter": "python",
   "pygments_lexer": "ipython3",
   "version": "3.7.4"
  }
 },
 "nbformat": 4,
 "nbformat_minor": 4
}
