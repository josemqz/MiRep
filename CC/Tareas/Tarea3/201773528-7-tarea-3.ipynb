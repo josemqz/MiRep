{
 "cells": [
  {
   "cell_type": "code",
   "execution_count": 50,
   "metadata": {},
   "outputs": [],
   "source": [
    "import numpy as np\n",
    "import sympy as sp\n",
    "from PIL import Image\n",
    "from scipy import interpolate\n",
    "import matplotlib.pyplot as plt\n",
    "import time"
   ]
  },
  {
   "cell_type": "markdown",
   "metadata": {},
   "source": [
    "# Tarea 3:Interpolación Bicúbica"
   ]
  },
  {
   "cell_type": "markdown",
   "metadata": {},
   "source": [
    "## Instrucciones\n",
    "\n",
    "* La tarea es individual.\n",
    "* Las consultas sobre las tareas se deben realizar por medio de la plataforma Aula.\n",
    "* La tarea debe ser realizada en `Jupyter Notebook` (`Python3`).\n",
    "* Se evaluará la correcta utilización de librerias `NumPy`, `SciPy`, entre otras, así como la correcta implementación de algoritmos de forma vectorizada.\n",
    "*  **El archivo de entrega debe denominarse ROL-tarea-numero.ipynb**. _De no respetarse este formato existirá un descuento de **50 puntos**_\n",
    "* La fecha de entrega es el viernes 24 de Julio a las **18:00 hrs**.  Se aceptarán entregas hasta las 19:00 hrs sin descuento en caso de existir algun problema, posteriormente existirá un descuento lineal hasta las 20:00 hrs del mismo día.\n",
    "* Las tareas que sean entregadas antes del jueves a mediodía recibirán una bonificación de 10 puntos\n",
    "* Debe citar cualquier código ajeno utilizado (incluso si proviene de los Jupyter Notebooks del curso).\n"
   ]
  },
  {
   "cell_type": "markdown",
   "metadata": {},
   "source": [
    "## Introducción"
   ]
  },
  {
   "cell_type": "markdown",
   "metadata": {},
   "source": [
    "En la siguiente tarea estudiaremos un método de interpolación denominado **Interpolación Bicúbica**, utilizada frecuentemente sobre imágenes. Aplicaremos el método para aumentar la resolución de una imagen intentando preservar las propiedades de la versión original."
   ]
  },
  {
   "cell_type": "markdown",
   "metadata": {},
   "source": [
    "## Contexto"
   ]
  },
  {
   "cell_type": "markdown",
   "metadata": {},
   "source": [
    "Supongamos que usted conoce $f$ y las derivadas $f_x$, $f_y$ y $f_{xy}$ dentro de las coordenadas $(0,0),(0,1),(1,0)$ y $(1,1)$ de un cuadrado unitario. La superficie que interpola estos 4 puntos es:\n",
    "\n",
    "$$\n",
    "p(x,y) = \\sum\\limits_{i=0}^3 \\sum_{j=0}^3 a_{ij} x^i y^j.\n",
    "$$\n",
    "\n",
    "Como se puede observar el problema de interpolación se resume en determinar los 16 coeficientes $a_{ij}$ y para esto se genera un total de $16$ ecuaciones utilizando los valores conocidos de $f$,$f_x$,$f_y$ y $f_{xy}$. Por ejemplo, las primeras $4$ ecuaciones son:\n",
    "\n",
    "$$\n",
    "\\begin{aligned}\n",
    "f(0,0)&=p(0,0)=a_{00},\\\\\n",
    "f(1,0)&=p(1,0)=a_{00}+a_{10}+a_{20}+a_{30},\\\\\n",
    "f(0,1)&=p(0,1)=a_{00}+a_{01}+a_{02}+a_{03},\\\\\n",
    "f(1,1)&=p(1,1)=\\textstyle \\sum \\limits _{i=0}^{3}\\sum \\limits _{j=0}^{3}a_{ij}.\n",
    "\\end{aligned}\n",
    "$$\n",
    "\n",
    "Para las $12$ ecuaciones restantes se debe utilizar:\n",
    "\n",
    "$$\n",
    "\\begin{aligned}\n",
    "f_{x}(x,y)&=p_{x}(x,y)=\\textstyle \\sum \\limits _{i=1}^{3}\\sum \\limits _{j=0}^{3}a_{ij}ix^{i-1}y^{j},\\\\\n",
    "f_{y}(x,y)&=p_{y}(x,y)=\\textstyle \\sum \\limits _{i=0}^{3}\\sum \\limits _{j=1}^{3}a_{ij}x^{i}jy^{j-1},\\\\\n",
    "f_{xy}(x,y)&=p_{xy}(x,y)=\\textstyle \\sum \\limits _{i=1}^{3}\\sum \\limits _{j=1}^{3}a_{ij}ix^{i-1}jy^{j-1}.\n",
    "\\end{aligned}\n",
    "$$\n",
    "\n",
    "\n",
    "Una vez planteadas las ecuaciones, los coeficientes se pueden obtener al resolver el problema $A\\alpha=x$, donde $\\alpha=\\left[\\begin{smallmatrix}a_{00}&a_{10}&a_{20}&a_{30}&a_{01}&a_{11}&a_{21}&a_{31}&a_{02}&a_{12}&a_{22}&a_{32}&a_{03}&a_{13}&a_{23}&a_{33}\\end{smallmatrix}\\right]^T$ y ${\\displaystyle x=\\left[{\\begin{smallmatrix}f(0,0)&f(1,0)&f(0,1)&f(1,1)&f_{x}(0,0)&f_{x}(1,0)&f_{x}(0,1)&f_{x}(1,1)&f_{y}(0,0)&f_{y}(1,0)&f_{y}(0,1)&f_{y}(1,1)&f_{xy}(0,0)&f_{xy}(1,0)&f_{xy}(0,1)&f_{xy}(1,1)\\end{smallmatrix}}\\right]^{T}}$.\n"
   ]
  },
  {
   "cell_type": "code",
   "execution_count": null,
   "metadata": {},
   "outputs": [],
   "source": [
    "A_f(0,0) = [1 0 0 0 0 0 0 0 0 0 0 0 0 0 0 0]\n",
    "A_f(1,0) = [1 1 1 1 0 0 0 0 0 0 0 0 0 0 0 0]\n",
    "A_f(0,1) = [1 0 0 0 1 0 0 0 1 0 0 0 1 0 0 0]\n",
    "A_f(1,1) = [1 1 1 1 1 1 1 1 1 1 1 1 1 1 1 1]\n",
    "\n",
    "#00 10 01 11\n",
    "A_{f_x}(x,y) = [0 1 2*x 3*x**2 0 y 2*x*y 3*x**2*y**3 0 y**2 2*x*y**2 3*x**2*y**2 0 y**3 2*x*y**3 3*x**2*y**3]\n",
    "\n",
    "A_{f_y}(x,y) = [0 0 0 0 1 x x**2 x**3 2*y 2*x*y 2*x**2*y 2*x**3*y 3*y**2 3*x*y**2 3*x**2*y**2 3*x**3*y**2]\n",
    "\n",
    "A_{f_xy}(x,y) = [0 0 0 0 0 1 2*x 3*x**2 0 2*y 4*x*y 6*x**2*y 0 3*y**2 6*x*y**2 9*x**2*y**2]"
   ]
  },
  {
   "cell_type": "markdown",
   "metadata": {},
   "source": [
    "En un contexto más aplicado, podemos hacer uso de la interpolación bicúbica para aumentar la resolución de una imagen. Supongamos que tenemos la siguiente imagen de tamaño $5 \\times 5$:"
   ]
  },
  {
   "cell_type": "markdown",
   "metadata": {},
   "source": [
    "<img src=\"img1.png\" width=\"20%\"/>"
   ]
  },
  {
   "cell_type": "markdown",
   "metadata": {},
   "source": [
    "Podemos ir tomando segmentos de la imagen de tamaño $2 \\times 2$ de la siguiente forma:"
   ]
  },
  {
   "cell_type": "markdown",
   "metadata": {},
   "source": [
    "<img src=\"img2.png\" width=\"50%\"/>"
   ]
  },
  {
   "cell_type": "markdown",
   "metadata": {},
   "source": [
    "Por cada segmento podemos generar una superficie interpoladora mediante el algoritmo de interpolación cubica. Para el ejemplo anterior estariamos generando $16$ superficies interpoladoras distintas. La idea es hacer uso de estas superficies para estimar los valores de los pixeles correspondientes a una imagen más grande. Por ejemplo, la imagen $5 \\times 5$ la podemos convertir a una imagen de $9 \\times 9$ agregando un pixel entre cada par de pixeles originales además de uno en el centro para que no quede un hueco."
   ]
  },
  {
   "cell_type": "markdown",
   "metadata": {},
   "source": [
    "<img src=\"img3.png\" width=\"50%\"/>"
   ]
  },
  {
   "cell_type": "markdown",
   "metadata": {},
   "source": [
    "Acá los pixeles verdes son los mismos que la imagen original y los azules son obtenidos de evaluar cada superficie interpoladora. Notar que existen pixeles azules que se pueden obtener a partir de dos superficies interpoladoras distintas, en esos casos se puede promediar el valor de los pixeles o simplemente dejar uno de los dos. \n",
    "\n",
    "Para trabajar con la interpolación bicubica necesitamos conocer los valores de $f_x$, $f_y$ y $f_{xy}$. En el caso de las imágenes solo tenemos acceso al valor de cada pixel por lo que deberemos estimar cual es el valor de estos. Para estimar $f_x$ haremos lo siguiente:"
   ]
  },
  {
   "cell_type": "markdown",
   "metadata": {},
   "source": [
    "## Para estimar el valor de $f_x$ en cada pixel haremos una interpolación con los algoritmos conocidos, usando tres pixeles en dirección de las filas, luego derivaremos el polinomio obtenido y finalmente evaluaremos en la posición de interés. La misma idea aplica para $f_y$ solo que ahora interpolaremos en dirección de las columnas."
   ]
  },
  {
   "cell_type": "markdown",
   "metadata": {},
   "source": [
    "<img src=\"img5.png\" width=\"60%\"/>"
   ]
  },
  {
   "cell_type": "markdown",
   "metadata": {},
   "source": [
    "Por ejemplo si queremos obtener el valor de $f_x$ en la posición $(0,0)$ (imagen de la izquierda) entonces haremos una interpolación de Lagrange utilizando los pixeles $(0,-1),(0,0)$ y $(0,1)$. Derivaremos el polinomio interpolador y evaluaremos en $(0,0)$. Por otro lado si queremos obtener el valor de $f_y$ en la posición $(0,0)$ (imagen de la derecha) entonces interpolaremos los pixeles $(-1,0),(0,0)$ y $(1,0)$. Luego derivaremos el polinomio interpolador y evaluaremos en $(0,0)$."
   ]
  },
  {
   "cell_type": "markdown",
   "metadata": {},
   "source": [
    "Para obtener $f_{xy}$ seguiremos la idea anterior. Solo que esta vez se utilizaran los valores de $f_y$ y se interpolaran estos en dirección de las filas."
   ]
  },
  {
   "cell_type": "markdown",
   "metadata": {},
   "source": [
    "# Preguntas"
   ]
  },
  {
   "cell_type": "code",
   "execution_count": 56,
   "metadata": {},
   "outputs": [
    {
     "data": {
      "image/png": "[encoded data removed]",
      "text/plain": [
       "<Figure size 432x288 with 1 Axes>"
      ]
     },
     "metadata": {
      "needs_background": "light"
     },
     "output_type": "display_data"
    }
   ],
   "source": [
    "#Codigo para abrir y visualizar imágenes\n",
    "img = Image.open('./imagenes_prueba/cat.png')\n",
    "array = np.array(img.convert('RGB'))\n",
    "#array = np.array(img)\n",
    "imgplot = plt.imshow(array)\n",
    "plt.show()"
   ]
  },
  {
   "cell_type": "markdown",
   "metadata": {},
   "source": [
    "## 1. Interpolación bicubica"
   ]
  },
  {
   "cell_type": "markdown",
   "metadata": {},
   "source": [
    "### 1.1  Obtener derivadas (30 puntos)\n",
    "\n",
    "Implemente la función `derivativeValues` que reciba como input un arreglo con valores, el método de interpolación y si es que se considera el uso de  los puntos de chebyshev . La función debe retornar un arreglo de igual dimensión con los valores de las derivadas obtenidas de los puntos.\n",
    "\n",
    "Los métodos de interpolación serán representados por los siguientes valores\n",
    "\n",
    "* Interpolación de lagrange: `'lagrange'`\n",
    "* Diferencias divididas de Newton: `'newton'`\n",
    "* Spline cubica: `'spline3'`\n"
   ]
  },
  {
   "cell_type": "code",
   "execution_count": 51,
   "metadata": {},
   "outputs": [],
   "source": [
    " def derivativeValues(values, method, cheb):\n",
    "    \"\"\"\n",
    "    Parameters\n",
    "    ----------\n",
    "    values:\t(int array) points values\n",
    "    method:\t(string)\tinterpolation method\n",
    "    cheb:\t(boolean)\tif chebyshev points are used\n",
    "\n",
    "    Returns\n",
    "    -------\n",
    "    d:\t(float array) derivative value of interpolated points\n",
    "\n",
    "    \"\"\"\n",
    "    \n",
    "    n = values.shape[0]    \n",
    "    \n",
    "    #Puntos x\n",
    "    if cheb:\n",
    "        x_arr = [0.5 + 0.5*np.cos((2*i - 1)*np.pi / (2*n)) for i in range(1, n + 1)]\n",
    "        x_arr.reverse()\n",
    "        x_arr = np.array(x_arr)\n",
    "    \n",
    "    else:\n",
    "         x_arr = np.linspace(0, 1, n)\n",
    "    \n",
    "    #Interpolar\n",
    "    if method == 'lagrange' or method == 'Lagrange':\n",
    "        interFunc = interpolate.lagrange(x_arr, values)\n",
    "        d = interFunc.deriv()(x_arr)\n",
    "        \n",
    "    elif method == 'newton' or method == 'Newton':\n",
    "        \n",
    "        dd = np.array([values])\n",
    "        for i in range(n - 1):\n",
    "\n",
    "            ddi = []\n",
    "            for a in range(n - i - 1):\n",
    "                \n",
    "                ddi.append( (dd[i][a + 1] - dd[i][a]) / (x_arr[a + i + 1] - x_arr[a]) )\n",
    "            \n",
    "            ddi = np.append(ddi, np.full((n - len(ddi),),0.0))\n",
    "            \n",
    "            dd = np.append(dd, [ddi], axis=0)\n",
    "        \n",
    "        dd = np.array(dd)\n",
    "        factores = [i for i in [j[0] for j in dd]]\n",
    "        \n",
    "        #función interpoladora\n",
    "        x = sp.Symbol('x')\n",
    "        interFunc = np.dot(factores, np.append([1],[np.prod(x - x_arr[:i]) for i in range(1, len(dd))]))\n",
    "        d = [sp.lambdify(x,sp.diff(interFunc))(i) for i in x_arr]\n",
    "        \n",
    "    elif method == 'spline3':\n",
    "        \n",
    "        interFunc = interpolate.CubicSpline(x_arr,values)\n",
    "        d = interFunc(x_arr,1)\n",
    "    \n",
    "    return d"
   ]
  },
  {
   "cell_type": "markdown",
   "metadata": {},
   "source": [
    "\n",
    "### 1.2 Interpolación de imagen (50 puntos)\n",
    "Implemente la función `bicubicInterpolation` que reciba como input la matriz de la imagen y cuantos píxeles extra se quiere agregar entre los píxeles originales y el algoritmo de interpolación a utilizar. La función debe retornar la matriz con la imagen de dimensión nueva. Considere que se debe aplicar el método de interpolación en cada canal RGB por separado."
   ]
  },
  {
   "cell_type": "code",
   "execution_count": 52,
   "metadata": {},
   "outputs": [],
   "source": [
    "def constr_A ():\n",
    "    \n",
    "    X = np.array([0,1,0,1])\n",
    "    Y = np.array([0,0,1,1])\n",
    "    A = np.zeros([16,16],np.int32)\n",
    "    \n",
    "    #condiciones\n",
    "    A[0] = [1,0,0,0,0,0,0,0,0,0,0,0,0,0,0,0]\n",
    "    A[1] = [1,1,1,1,0,0,0,0,0,0,0,0,0,0,0,0]\n",
    "    A[2] = [1,0,0,0,1,0,0,0,1,0,0,0,1,0,0,0]\n",
    "    A[3] = [1,1,1,1,1,1,1,1,1,1,1,1,1,1,1,1]\n",
    "\n",
    "    \n",
    "    #00,10,01,11\n",
    "    #derivadas X[i]\n",
    "    for i in range(4):\n",
    "        #A[4:8]\n",
    "        A[4 + i] = [0,1,2*X[i],3*X[i]**2,0,Y[i],2*X[i]*Y[i],3*X[i]**2*Y[i]**3,0,Y[i]**2,2*X[i]*Y[i]**2,3*X[i]**2*Y[i]**2,0,Y[i]**3,2*X[i]*Y[i]**3,3*X[i]**2*Y[i]**3]\n",
    "        \n",
    "        #A[8:12]\n",
    "        A[8 + i] = [0,0,0,0,1,X[i],X[i]**2,X[i]**3,2*Y[i],2*X[i]*Y[i],2*X[i]**2*Y[i],2*X[i]**3*Y[i],3*Y[i]**2,3*X[i]*Y[i]**2,3*X[i]**2*Y[i]**2,3*X[i]**3*Y[i]**2]\n",
    "        \n",
    "        #A[12:16]\n",
    "        A[12 + i] = [0,0,0,0,0,1,2*X[i],3*X[i]**2,0,2*Y[i],4*X[i]*Y[i],6*X[i]**2*Y[i],0,3*Y[i]**2,6*X[i]*Y[i]**2,9*X[i]**2*Y[i]**2]\n",
    "        \n",
    "    return A"
   ]
  },
  {
   "cell_type": "code",
   "execution_count": 53,
   "metadata": {},
   "outputs": [],
   "source": [
    "#Resultado según función interpoladora\n",
    "#x,y: int\n",
    "#a: arreglo con constantes de polinomio (00 10 20 30 10 11 21 31 ...)\n",
    "def InterP(x, y, a):\n",
    "    \n",
    "    res = 0\n",
    "    k = 0\n",
    "    \n",
    "    for j in range(4):\n",
    "        for i in range(4):\n",
    "        \n",
    "            res += a[k] * x**i * y**j\n",
    "            k += 1\n",
    "            \n",
    "    return res"
   ]
  },
  {
   "cell_type": "code",
   "execution_count": 73,
   "metadata": {},
   "outputs": [],
   "source": [
    "def bicubicInterpolation(image, interiorPixels, method,cheb):\n",
    "    \"\"\"\n",
    "    Parameters\n",
    "    ----------\n",
    "    image:\t(nxnx3 array) image array in RGB format\n",
    "    interiorPixels:\t(int)\tnumber of extra pixels between the original ones\n",
    "    method:\t(string)\tinterpolation method\n",
    "    cheb:\t(boolean)\tif chebyshev points are used\n",
    "\n",
    "\n",
    "    Returns\n",
    "    -------\n",
    "    newImage:\t(nxnx3 array) image array in RGB format\n",
    "\n",
    "    \"\"\"\n",
    "    \n",
    "    Img = np.array(image.convert('RGB'))\n",
    "    n = Img.shape[0]\n",
    "    \n",
    "    #nuevo arreglo\n",
    "    newShp = n + interiorPixels*(n - 1)\n",
    "    newImg = np.zeros([newShp,newShp,3],np.int32)\n",
    "    \n",
    "    \n",
    "    #puntos x\n",
    "    if cheb:\n",
    "        x_arr = [0.5 + 0.5*np.cos((2*i - 1)*np.pi / (2*(interiorPixels + 2))) for i in range(1, (interiorPixels + 2) + 1)]\n",
    "        x_arr.reverse()\n",
    "        x_arr = np.array(x_arr)\n",
    "    \n",
    "    else:\n",
    "         x_arr = np.linspace(0, 1, interiorPixels + 2)\n",
    "    \n",
    "    \n",
    "    #arreglo 3xnxn\n",
    "    arrImg = np.zeros([3,n,n],np.int32)\n",
    "    f = 0\n",
    "    for fila in Img:\n",
    "        c = 0\n",
    "        for col in fila:\n",
    "            l = 0\n",
    "            for capa in col:\n",
    "\n",
    "                arrImg[l][f][c] = Img[f][c][l]\n",
    "\n",
    "                l += 1\n",
    "            c += 1\n",
    "        f += 1\n",
    "    \n",
    "    \n",
    "    #matrices con derivadas de x e y\n",
    "    Mx = np.zeros([3,n,n])\n",
    "    My = np.zeros([3,n,n])\n",
    "    \n",
    "    #submatrices\n",
    "    sm = np.zeros(4, dict)\n",
    "    \n",
    "    A = constr_A()\n",
    "    X = np.zeros(16)\n",
    "    \n",
    "    l = 0\n",
    "    for capa in arrImg:\n",
    "        \n",
    "        #obtener submatrices como parámetros\n",
    "        for i in range(n - 1): #mover submatriz en y\n",
    "            for j in range(n - 1): #mover submatriz en x\n",
    "                \n",
    "                \n",
    "                #sm: 00 10 01 11\n",
    "            \n",
    "                sm[0] = {\"i\":i, \"j\": j}\n",
    "                sm[1] = {\"i\":i+1, \"j\": j}\n",
    "                sm[2] = {\"i\":i, \"j\": j+1}\n",
    "                sm[3] = {\"i\":i+1, \"j\": j+1}\n",
    "                \n",
    "                \n",
    "                #Derivaciones\n",
    "                for k in range(4):\n",
    "                    \n",
    "                    #cada variable es el arreglo derivado\n",
    "                    #se ocupa un 0 en los casos de borde\n",
    "                    #capa[sm[k][\"i\"]][sm[k][\"j\"]] corresponde a capa[i][j]\n",
    "                    \n",
    "                    if i == 0:\n",
    "                        diffArr_y = np.array([0, capa[sm[k][\"i\"]][sm[k][\"j\"]], capa[sm[k][\"i\"] + 1][sm[k][\"j\"]] ])\n",
    "                    elif i == n - 1:\n",
    "                        diffArr_y = np.array([capa[sm[k][\"i\"] - 1][sm[k][\"j\"]], capa[sm[k][\"i\"]][sm[k][\"j\"]], 0])\n",
    "                    else:\n",
    "                        diffArr_y = np.array([capa[sm[k][\"i\"] - 1][sm[k][\"j\"]], capa[sm[k][\"i\"]][sm[k][\"j\"]], capa[sm[k][\"i\"] + 1][sm[k][\"j\"]] ])\n",
    "                    \n",
    "                    if j == 0:\n",
    "                        diffArr_x = np.array([0, capa[sm[k][\"i\"]][sm[k][\"j\"]], capa[sm[k][\"i\"]][sm[k][\"j\"] + 1]])\n",
    "                    elif j >= n - 2:\n",
    "                        diffArr_x = np.array([capa[sm[k][\"i\"]][sm[k][\"j\"] - 1], capa[sm[k][\"i\"]][sm[k][\"j\"]], 0])\n",
    "                    else:\n",
    "                        diffArr_x = np.array([capa[sm[k][\"i\"]][sm[k][\"j\"] - 1], capa[sm[k][\"i\"]][sm[k][\"j\"]], capa[sm[k][\"i\"]][sm[k][\"j\"] + 1] ])\n",
    "                    \n",
    "                    \n",
    "                    Mx[l][i][j] = derivativeValues(diffArr_x, method, cheb)[1]\n",
    "                    My[l][i][j] = derivativeValues(diffArr_y, method, cheb)[1]      \n",
    "                    \n",
    "        \n",
    "        #aumenta capa\n",
    "        l+= 1     \n",
    "                \n",
    "    #tengo matrices con derivadas x.x\n",
    "    \n",
    "    \n",
    "    #Nuevamente, para obtener f_xy en una nueva matriz\n",
    "    Mxy = np.zeros([n,n,3])\n",
    "    \n",
    "    l = 0\n",
    "    for capa in My:\n",
    "        for i in range(n - 1):\n",
    "            for j in range(n - 1):\n",
    "                \n",
    "                sm[0] = {\"i\":i, \"j\": j}\n",
    "                sm[1] = {\"i\":i+1, \"j\": j}\n",
    "                sm[2] = {\"i\":i, \"j\": j+1}\n",
    "                sm[3] = {\"i\":i+1, \"j\": j+1}\n",
    "                \n",
    "\n",
    "                if j == 0:\n",
    "                    diffArr_xy = np.array([0, capa[sm[k][\"i\"]][sm[k][\"j\"]], capa[sm[k][\"i\"]][sm[k][\"j\"] + 1]])\n",
    "                elif j >= n - 2:\n",
    "                    diffArr_xy = np.array([capa[sm[k][\"i\"]][sm[k][\"j\"] - 1], capa[sm[k][\"i\"]][sm[k][\"j\"]], 0])\n",
    "                else:\n",
    "                    diffArr_xy = np.array([capa[sm[k][\"i\"]][sm[k][\"j\"] - 1], capa[sm[k][\"i\"]][sm[k][\"j\"]], capa[sm[k][\"i\"]][sm[k][\"j\"] + 1] ])\n",
    "                \n",
    "                Mxy[l][i][j] = derivativeValues(diffArr_xy, method, cheb)[1]                                                                                     \n",
    "                    \n",
    "        l += 1\n",
    "    \n",
    "    #una más > <\n",
    "    l = 0           \n",
    "    for capa in arrImg:\n",
    "        for i in range(n - 1):\n",
    "            for j in range(n - 1):\n",
    "                \n",
    "                X[0] = capa[i][j]\n",
    "                X[1] = capa[i + 1][j]\n",
    "                X[2] = capa[i][j + 1]\n",
    "                X[3] = capa[i + 1][j + 1]\n",
    "                \n",
    "                X[4] = Mx[i][j][l]\n",
    "                X[5] = Mx[i + 1][j][l]\n",
    "                X[6] = Mx[i][j + 1][l]\n",
    "                X[7] = Mx[i + 1][j + 1][l]\n",
    "                \n",
    "                X[8] = My[i][j][l]\n",
    "                X[9] = My[i + 1][j][l]\n",
    "                X[10] = My[i][j + 1][l]\n",
    "                X[11] = My[i + 1][j + 1][l]\n",
    "                \n",
    "                X[12] = Mxy[i][j][l]\n",
    "                X[13] = Mxy[i + 1][j][l]\n",
    "                X[14] = Mxy[i][j + 1][l]\n",
    "                X[15] = Mxy[i + 1][j + 1][l]\n",
    "                    \n",
    "                \n",
    "                a = np.solve(A,X)\n",
    "                \n",
    "                \n",
    "                #llenar nueva matriz con valores evaluados en funcion interpoladora\n",
    "                \n",
    "                index_aux1 = 0\n",
    "                for ip1 in range(interiorPixels):\n",
    "                    index_aux2 = 0\n",
    "                    for ip2 in range(interiorPixels):\n",
    "                    \n",
    "                        newImage[i + ip1][j + ip2][l] = InterP(i+x_arr[index_aux1], j+x_arr[index_aux2], a) #<<<<<<\n",
    "                        index_aux2 += 1\n",
    "                    \n",
    "                    index_aux1 += 1\n",
    "                    \n",
    "        l += 1\n",
    "        \n",
    "        \n",
    "    l = 0\n",
    "    for capa in arrImg:\n",
    "        f = 0\n",
    "        for i in range(n):\n",
    "            c = 0\n",
    "            for j in range(n):\n",
    "                newImage[f][c][l] = arrImg[l][f][c] \n",
    "                c += 1\n",
    "            f += 1\n",
    "        l += 1\n",
    "                \n",
    "        \n",
    "    return newImage"
   ]
  },
  {
   "cell_type": "code",
   "execution_count": 74,
   "metadata": {
    "scrolled": true
   },
   "outputs": [
    {
     "ename": "IndexError",
     "evalue": "index 50 is out of bounds for axis 0 with size 50",
     "output_type": "error",
     "traceback": [
      "\u001b[0;31m---------------------------------------------------------------------------\u001b[0m",
      "\u001b[0;31mIndexError\u001b[0m                                Traceback (most recent call last)",
      "\u001b[0;32m<ipython-input-74-9398f8f34d87>\u001b[0m in \u001b[0;36m<module>\u001b[0;34m\u001b[0m\n\u001b[1;32m      1\u001b[0m \u001b[0;31m#array = np.array(img.convert('RGB'))\u001b[0m\u001b[0;34m\u001b[0m\u001b[0;34m\u001b[0m\u001b[0;34m\u001b[0m\u001b[0m\n\u001b[0;32m----> 2\u001b[0;31m \u001b[0mnI\u001b[0m \u001b[0;34m=\u001b[0m \u001b[0mbicubicInterpolation\u001b[0m\u001b[0;34m(\u001b[0m\u001b[0mimg\u001b[0m\u001b[0;34m,\u001b[0m \u001b[0;36m5\u001b[0m\u001b[0;34m,\u001b[0m \u001b[0;34m\"lagrange\"\u001b[0m\u001b[0;34m,\u001b[0m\u001b[0;32mTrue\u001b[0m\u001b[0;34m)\u001b[0m\u001b[0;34m\u001b[0m\u001b[0;34m\u001b[0m\u001b[0m\n\u001b[0m\u001b[1;32m      3\u001b[0m \u001b[0;34m\u001b[0m\u001b[0m\n\u001b[1;32m      4\u001b[0m \u001b[0mimgplot\u001b[0m \u001b[0;34m=\u001b[0m \u001b[0mplt\u001b[0m\u001b[0;34m.\u001b[0m\u001b[0mimshow\u001b[0m\u001b[0;34m(\u001b[0m\u001b[0mnI\u001b[0m\u001b[0;34m)\u001b[0m\u001b[0;34m\u001b[0m\u001b[0;34m\u001b[0m\u001b[0m\n\u001b[1;32m      5\u001b[0m \u001b[0mplt\u001b[0m\u001b[0;34m.\u001b[0m\u001b[0mshow\u001b[0m\u001b[0;34m(\u001b[0m\u001b[0;34m)\u001b[0m\u001b[0;34m\u001b[0m\u001b[0;34m\u001b[0m\u001b[0m\n",
      "\u001b[0;32m<ipython-input-73-8047be3db0d2>\u001b[0m in \u001b[0;36mbicubicInterpolation\u001b[0;34m(image, interiorPixels, method, cheb)\u001b[0m\n\u001b[1;32m     87\u001b[0m                         \u001b[0mdiffArr_y\u001b[0m \u001b[0;34m=\u001b[0m \u001b[0mnp\u001b[0m\u001b[0;34m.\u001b[0m\u001b[0marray\u001b[0m\u001b[0;34m(\u001b[0m\u001b[0;34m[\u001b[0m\u001b[0mcapa\u001b[0m\u001b[0;34m[\u001b[0m\u001b[0msm\u001b[0m\u001b[0;34m[\u001b[0m\u001b[0mk\u001b[0m\u001b[0;34m]\u001b[0m\u001b[0;34m[\u001b[0m\u001b[0;34m\"i\"\u001b[0m\u001b[0;34m]\u001b[0m \u001b[0;34m-\u001b[0m \u001b[0;36m1\u001b[0m\u001b[0;34m]\u001b[0m\u001b[0;34m[\u001b[0m\u001b[0msm\u001b[0m\u001b[0;34m[\u001b[0m\u001b[0mk\u001b[0m\u001b[0;34m]\u001b[0m\u001b[0;34m[\u001b[0m\u001b[0;34m\"j\"\u001b[0m\u001b[0;34m]\u001b[0m\u001b[0;34m]\u001b[0m\u001b[0;34m,\u001b[0m \u001b[0mcapa\u001b[0m\u001b[0;34m[\u001b[0m\u001b[0msm\u001b[0m\u001b[0;34m[\u001b[0m\u001b[0mk\u001b[0m\u001b[0;34m]\u001b[0m\u001b[0;34m[\u001b[0m\u001b[0;34m\"i\"\u001b[0m\u001b[0;34m]\u001b[0m\u001b[0;34m]\u001b[0m\u001b[0;34m[\u001b[0m\u001b[0msm\u001b[0m\u001b[0;34m[\u001b[0m\u001b[0mk\u001b[0m\u001b[0;34m]\u001b[0m\u001b[0;34m[\u001b[0m\u001b[0;34m\"j\"\u001b[0m\u001b[0;34m]\u001b[0m\u001b[0;34m]\u001b[0m\u001b[0;34m,\u001b[0m \u001b[0;36m0\u001b[0m\u001b[0;34m]\u001b[0m\u001b[0;34m)\u001b[0m\u001b[0;34m\u001b[0m\u001b[0;34m\u001b[0m\u001b[0m\n\u001b[1;32m     88\u001b[0m                     \u001b[0;32melse\u001b[0m\u001b[0;34m:\u001b[0m\u001b[0;34m\u001b[0m\u001b[0;34m\u001b[0m\u001b[0m\n\u001b[0;32m---> 89\u001b[0;31m                         \u001b[0mdiffArr_y\u001b[0m \u001b[0;34m=\u001b[0m \u001b[0mnp\u001b[0m\u001b[0;34m.\u001b[0m\u001b[0marray\u001b[0m\u001b[0;34m(\u001b[0m\u001b[0;34m[\u001b[0m\u001b[0mcapa\u001b[0m\u001b[0;34m[\u001b[0m\u001b[0msm\u001b[0m\u001b[0;34m[\u001b[0m\u001b[0mk\u001b[0m\u001b[0;34m]\u001b[0m\u001b[0;34m[\u001b[0m\u001b[0;34m\"i\"\u001b[0m\u001b[0;34m]\u001b[0m \u001b[0;34m-\u001b[0m \u001b[0;36m1\u001b[0m\u001b[0;34m]\u001b[0m\u001b[0;34m[\u001b[0m\u001b[0msm\u001b[0m\u001b[0;34m[\u001b[0m\u001b[0mk\u001b[0m\u001b[0;34m]\u001b[0m\u001b[0;34m[\u001b[0m\u001b[0;34m\"j\"\u001b[0m\u001b[0;34m]\u001b[0m\u001b[0;34m]\u001b[0m\u001b[0;34m,\u001b[0m \u001b[0mcapa\u001b[0m\u001b[0;34m[\u001b[0m\u001b[0msm\u001b[0m\u001b[0;34m[\u001b[0m\u001b[0mk\u001b[0m\u001b[0;34m]\u001b[0m\u001b[0;34m[\u001b[0m\u001b[0;34m\"i\"\u001b[0m\u001b[0;34m]\u001b[0m\u001b[0;34m]\u001b[0m\u001b[0;34m[\u001b[0m\u001b[0msm\u001b[0m\u001b[0;34m[\u001b[0m\u001b[0mk\u001b[0m\u001b[0;34m]\u001b[0m\u001b[0;34m[\u001b[0m\u001b[0;34m\"j\"\u001b[0m\u001b[0;34m]\u001b[0m\u001b[0;34m]\u001b[0m\u001b[0;34m,\u001b[0m \u001b[0mcapa\u001b[0m\u001b[0;34m[\u001b[0m\u001b[0msm\u001b[0m\u001b[0;34m[\u001b[0m\u001b[0mk\u001b[0m\u001b[0;34m]\u001b[0m\u001b[0;34m[\u001b[0m\u001b[0;34m\"i\"\u001b[0m\u001b[0;34m]\u001b[0m \u001b[0;34m+\u001b[0m \u001b[0;36m1\u001b[0m\u001b[0;34m]\u001b[0m\u001b[0;34m[\u001b[0m\u001b[0msm\u001b[0m\u001b[0;34m[\u001b[0m\u001b[0mk\u001b[0m\u001b[0;34m]\u001b[0m\u001b[0;34m[\u001b[0m\u001b[0;34m\"j\"\u001b[0m\u001b[0;34m]\u001b[0m\u001b[0;34m]\u001b[0m \u001b[0;34m]\u001b[0m\u001b[0;34m)\u001b[0m\u001b[0;34m\u001b[0m\u001b[0;34m\u001b[0m\u001b[0m\n\u001b[0m\u001b[1;32m     90\u001b[0m \u001b[0;34m\u001b[0m\u001b[0m\n\u001b[1;32m     91\u001b[0m                     \u001b[0;32mif\u001b[0m \u001b[0mj\u001b[0m \u001b[0;34m==\u001b[0m \u001b[0;36m0\u001b[0m\u001b[0;34m:\u001b[0m\u001b[0;34m\u001b[0m\u001b[0;34m\u001b[0m\u001b[0m\n",
      "\u001b[0;31mIndexError\u001b[0m: index 50 is out of bounds for axis 0 with size 50"
     ]
    }
   ],
   "source": [
    "#array = np.array(img.convert('RGB'))\n",
    "nI = bicubicInterpolation(img, 5, \"lagrange\",True)\n",
    "\n",
    "imgplot = plt.imshow(nI)\n",
    "plt.show()"
   ]
  },
  {
   "cell_type": "markdown",
   "metadata": {},
   "source": [
    "## 2. Evaluacion de algoritmos\n",
    "\n"
   ]
  },
  {
   "cell_type": "markdown",
   "metadata": {},
   "source": [
    "### 2.1 Tiempo de ejecucion \n",
    "Implemente la funcion `timeInterpolation` que mida el tiempo de interpolacion de una imagen dado el algoritmo de interpolacion , en segundos.(5 puntos)"
   ]
  },
  {
   "cell_type": "code",
   "execution_count": null,
   "metadata": {},
   "outputs": [],
   "source": [
    "def timeInterpolation(image, interiorPixels, method,cheb):\n",
    "    \"\"\"\n",
    "    Parameters\n",
    "    ----------\n",
    "    image:\t(nxnx3 array) image array in RGB format\n",
    "    interiorPixels:\t(int)\tinterpolation method\n",
    "    method:\t(string)\tinterpolation method\n",
    "    cheb:\t(boolean)\tif chebyshev points are used\n",
    "\n",
    "\n",
    "    Returns\n",
    "    -------\n",
    "    time:\t(float) time in seconds\n",
    "\n",
    "    \"\"\"\n",
    "    t1 = time.time()\n",
    "    bicubicInterpolation(image, interiorPixels, method,cheb)\n",
    "    t2 = time.time()\n",
    "    time = t2-t1\n",
    "    \n",
    "    return time"
   ]
  },
  {
   "cell_type": "markdown",
   "metadata": {},
   "source": [
    "***Pregunta: ¿Cual es el metodo que presenta mayor velocidad en general? (5 puntos)***\n",
    "\n",
    "Lagrange."
   ]
  },
  {
   "cell_type": "markdown",
   "metadata": {},
   "source": [
    "### 2.2 Calculo de error\n",
    "Implemente la funcion `errorInterpolation` la cual debe obtener el error de la imagen obtenida comparandola con una de referencia. El error debe ser calculado utilizando el indice SSIM (Structural similarity) (5 puntos)"
   ]
  },
  {
   "cell_type": "code",
   "execution_count": null,
   "metadata": {},
   "outputs": [],
   "source": [
    "def errorInterpolation(original,new):\n",
    "    \"\"\"\n",
    "    Parameters\n",
    "    ----------\n",
    "    image:\t(nxn array) original image array in RGB format\n",
    "    new:\t(nxn array) new image array in RGB format obtained from interpolation\n",
    "\n",
    "\n",
    "    Returns\n",
    "    -------\n",
    "    error:\t(float) difference between images \n",
    "\n",
    "    \"\"\"\n",
    "    \n",
    "    return error"
   ]
  },
  {
   "cell_type": "markdown",
   "metadata": {},
   "source": [
    "***Pregunta: ¿Cual metodo presenta menor error? (5 puntos)***"
   ]
  },
  {
   "cell_type": "markdown",
   "metadata": {},
   "source": [
    "# Consideraciones"
   ]
  },
  {
   "cell_type": "markdown",
   "metadata": {},
   "source": [
    "* Solo trabajaremos con imagenes cuadradas\n",
    "* En el caso que el valor interpolado de un punto sea mayor a 255 o menor a 0, este se trunca a 255 o 0 respectivamente\n",
    "* Esta permitido el uso de sympy para calcular derivadas y para construir el polinomio interpolador \n",
    "* El calculo de error puede ser calculado utilizando la imagen en escala de grises [(ejemplo)](https://scikit-image.org/docs/dev/auto_examples/transform/plot_ssim.html)"
   ]
  },
  {
   "cell_type": "markdown",
   "metadata": {},
   "source": [
    "Referencias\n",
    "\n",
    "(1) Github - SC1 - 07_Polynomial_Interpolation_1D.ipynb"
   ]
  }
 ],
 "metadata": {
  "kernelspec": {
   "display_name": "Python 3",
   "language": "python",
   "name": "python3"
  },
  "language_info": {
   "codemirror_mode": {
    "name": "ipython",
    "version": 3
   },
   "file_extension": ".py",
   "mimetype": "text/x-python",
   "name": "python",
   "nbconvert_exporter": "python",
   "pygments_lexer": "ipython3",
   "version": "3.6.9"
  }
 },
 "nbformat": 4,
 "nbformat_minor": 4
}
