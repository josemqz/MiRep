{
 "cells": [
  {
   "cell_type": "code",
   "execution_count": 4,
   "metadata": {},
   "outputs": [],
   "source": [
    "import scipy as sp\n",
    "import numpy as np"
   ]
  },
  {
   "cell_type": "code",
   "execution_count": 84,
   "metadata": {},
   "outputs": [],
   "source": [
    "#le falta\n",
    "def maxerror(x_arr, x):\n",
    "    #x_arr: n-arreglo con valores x_i\n",
    "    \n",
    "    M = 1\n",
    "    n = x_arr.shape[0]\n",
    "    \n",
    "    for i in range(n):\n",
    "        M *= (x - x_arr[i])\n",
    "        \n",
    "    M /= sp.math.factorial(n)\n",
    "    \n",
    "    return M "
   ]
  },
  {
   "cell_type": "code",
   "execution_count": 86,
   "metadata": {},
   "outputs": [
    {
     "data": {
      "text/plain": [
       "0.0023227505858414692"
      ]
     },
     "execution_count": 86,
     "metadata": {},
     "output_type": "execute_result"
    }
   ],
   "source": [
    "xa = np.linspace(-1,1,5)\n",
    "M = maxerror(xa, -0.75)\n",
    "M*np.e #M * f^n()"
   ]
  },
  {
   "cell_type": "code",
   "execution_count": 41,
   "metadata": {},
   "outputs": [
    {
     "name": "stdout",
     "output_type": "stream",
     "text": [
      "[1, 2, 3, 4, 5, 6, 7, 8, 9]\n"
     ]
    }
   ],
   "source": [
    "print([i for i in range(1,10)])"
   ]
  },
  {
   "cell_type": "code",
   "execution_count": 78,
   "metadata": {},
   "outputs": [],
   "source": [
    "def Chebyshev(n, a = -1, b = 1):\n",
    "    \n",
    "    if n > 0:\n",
    "    \n",
    "        x_arr = np.zeros(n)\n",
    "    \n",
    "        if a != -1 or b != 1:\n",
    "            for i in range(n):\n",
    "                x_arr[i] = (a + b)/2 + (b - a)/2 * np.cos((2*i + 1) * np.pi / (2 * n))\n",
    "\n",
    "        else:\n",
    "            for i in range(n):\n",
    "                x_arr[i] = np.cos((2*i + 1) * np.pi /(2 * n))\n",
    "\n",
    "        return np.flip(x_arr)"
   ]
  },
  {
   "cell_type": "code",
   "execution_count": 79,
   "metadata": {},
   "outputs": [
    {
     "data": {
      "text/plain": [
       "array([-9.51056516e-01, -5.87785252e-01,  6.12323400e-17,  5.87785252e-01,\n",
       "        9.51056516e-01])"
      ]
     },
     "execution_count": 79,
     "metadata": {},
     "output_type": "execute_result"
    }
   ],
   "source": [
    "xb = Chebyshev(5)\n",
    "xb"
   ]
  },
  {
   "cell_type": "code",
   "execution_count": 81,
   "metadata": {},
   "outputs": [],
   "source": [
    "xc = Chebyshev(7,-9,5)"
   ]
  }
 ],
 "metadata": {
  "kernelspec": {
   "display_name": "Python 3",
   "language": "python",
   "name": "python3"
  },
  "language_info": {
   "codemirror_mode": {
    "name": "ipython",
    "version": 3
   },
   "file_extension": ".py",
   "mimetype": "text/x-python",
   "name": "python",
   "nbconvert_exporter": "python",
   "pygments_lexer": "ipython3",
   "version": "3.6.9"
  }
 },
 "nbformat": 4,
 "nbformat_minor": 2
}
