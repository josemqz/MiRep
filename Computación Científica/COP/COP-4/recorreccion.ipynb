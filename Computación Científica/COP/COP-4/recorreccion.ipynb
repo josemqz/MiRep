{
 "cells": [
  {
   "cell_type": "code",
   "execution_count": 3,
   "metadata": {},
   "outputs": [],
   "source": [
    "import numpy as np\n",
    "from scipy.linalg import solve_triangular\n",
    "dec = lambda num , d: int((num%1)*(10**d)-((num%1)*(10**d))%1)\n",
    "from ipywidgets import interact\n",
    "\n",
    "def show_answer(SEED):\n",
    "    # Loading data\n",
    "    X1=np.load('X1-'+str(SEED)+'.npy')\n",
    "    Y1=np.load('Y1-'+str(SEED)+'.npy')\n",
    "    X2=np.load('X2-'+str(SEED)+'.npy')\n",
    "    Y2=np.load('Y2-'+str(SEED)+'.npy')\n",
    "    Yt=np.load('Yt-'+str(SEED)+'.npy')\n",
    "    \n",
    "    # 1.- X1*W1=Y1\n",
    "    W1=solve_triangular(X1,Y1)\n",
    "    q1=np.linalg.norm(W1,'fro')\n",
    "    print('Answer 1: ',dec(q1,5))\n",
    "\n",
    "    # 2.- W2*X2=Y2, X2.T*W2.T=Y2.T\n",
    "    W2=solve_triangular(X2.T,Y2.T, lower=True).T\n",
    "    q2=np.linalg.norm(W2,'fro')\n",
    "    print('Answer 2: ',dec(q2,5))\n",
    "\n",
    "    # 3.- P_{y01}(X) = Y_1\\,(X-X_2)\\,(X_1-X_2)^{-1}+Y_2\\,(X-X_1)\\,(X_2-X_1)^{-1}\n",
    "    #       P_{y01}(0) = -Y_1 X_2,(X_1-X_2)^{-1} - Y_2 X_1 (X_2-X_1)^{-1}\n",
    "    #       P_{y01}(0) = (-Y_1 X_2 + Y_2 X_1) (X_1-X_2)^{-1}\n",
    "    #       W (X_1-X_2) = (-Y_1 X_2 + Y_2 X_1)\n",
    "    #       (X_1-X_2).T W.T = (-Y_1 X_2 + Y_2 X_1).T\n",
    "    A = (X1-X2)\n",
    "    B = (-np.dot(Y1,X2)+np.dot(Y2,X1))\n",
    "    P = solve_triangular(A.T, B.T, lower=True).T\n",
    "    q3=np.linalg.norm(P,'fro')\n",
    "    print('Answer 3: ',dec(q3,5))\n",
    "\n",
    "    # 4.- P_{y01}(X)=Y_1\\,(X-X_2)\\,(X_1-X_2)^{-1}+Y_2\\,(X-X_1)\\,(X_2-X_1)^{-1}\n",
    "    # D = X_1-X_2\n",
    "    #       Yt = Y_1\\,(X-X_2)\\,D^{-1} - Y_2\\,(X-X_1)\\,D^{-1}\n",
    "    #       Yt D = Y_1 (X-X_2) - Y_2 (X-X_1)\n",
    "    #       Yt D = Y_1 X - Y_1 X_2 - Y_2 X + Y_2 X_1\n",
    "    #       Yt D + Y_1 X_2 - Y_2 X_1 = (Y_1 - Y_2) X\n",
    "    D = X1-X2\n",
    "    A = (Y1-Y2)\n",
    "    B = np.dot(Yt,D)+np.dot(Y1,X2)-np.dot(Y2,X1)\n",
    "    X = solve_triangular(A, B, lower=False)\n",
    "    q4=np.linalg.norm(X,'fro')\n",
    "    print('Answer 4: ',dec(q4,5))\n"
   ]
  },
  {
   "cell_type": "code",
   "execution_count": 4,
   "metadata": {},
   "outputs": [
    {
     "data": {
      "application/vnd.jupyter.widget-view+json": {
       "model_id": "b17ce0f76b314fdc8d30562c37acfecc",
       "version_major": 2,
       "version_minor": 0
      },
      "text/plain": [
       "interactive(children=(Dropdown(description='SEED', options=(0, 1, 3, 4, 5, 6, 7, 8), value=0), Output()), _dom…"
      ]
     },
     "metadata": {},
     "output_type": "display_data"
    },
    {
     "data": {
      "text/plain": [
       "<function __main__.show_answer(SEED)>"
      ]
     },
     "execution_count": 4,
     "metadata": {},
     "output_type": "execute_result"
    }
   ],
   "source": [
    "interact(show_answer, SEED=[0,1,3,4,5,6,7,8])"
   ]
  }
 ],
 "metadata": {
  "kernelspec": {
   "display_name": "Python 3",
   "language": "python",
   "name": "python3"
  },
  "language_info": {
   "codemirror_mode": {
    "name": "ipython",
    "version": 3
   },
   "file_extension": ".py",
   "mimetype": "text/x-python",
   "name": "python",
   "nbconvert_exporter": "python",
   "pygments_lexer": "ipython3",
   "version": "3.6.9"
  }
 },
 "nbformat": 4,
 "nbformat_minor": 2
}
