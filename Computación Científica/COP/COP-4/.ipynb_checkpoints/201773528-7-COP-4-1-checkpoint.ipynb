{
 "cells": [
  {
   "cell_type": "markdown",
   "metadata": {},
   "source": [
    "<center>\n",
    "    <img src=\"http://sct.inf.utfsm.cl/wp-content/uploads/2020/04/logo_di.png\" style=\"width:60%\">\n",
    "    <h1> INF285/ILI285 Computación Científica </h1>\n",
    "    <h1> COP-4</h1>\n",
    "</center>\n",
    "\n",
    "## <span style=\"color:blue\">Nombre</span>: José Miguel Quezada Silva\n",
    "\n",
    "## <span style=\"color:blue\">Rol</span>: 201773528-7"
   ]
  },
  {
   "cell_type": "markdown",
   "metadata": {},
   "source": [
    "# Librerías"
   ]
  },
  {
   "cell_type": "code",
   "execution_count": 11,
   "metadata": {},
   "outputs": [],
   "source": [
    "import numpy as np\n",
    "#import scipy as sp\n",
    "import sympy as sym\n",
    "#from matplotlib import pyplot as plt"
   ]
  },
  {
   "cell_type": "markdown",
   "metadata": {},
   "source": [
    "# Desarrollo"
   ]
  },
  {
   "cell_type": "markdown",
   "metadata": {},
   "source": [
    "## 1"
   ]
  },
  {
   "cell_type": "code",
   "execution_count": 6,
   "metadata": {},
   "outputs": [],
   "source": [
    "data = np.load(\"1.npy\")\n",
    "x = data[:,0]\n",
    "y = data[:,1]"
   ]
  },
  {
   "cell_type": "code",
   "execution_count": 116,
   "metadata": {},
   "outputs": [],
   "source": [
    "eps = 1e-10\n",
    "lamb = 1"
   ]
  },
  {
   "cell_type": "code",
   "execution_count": 49,
   "metadata": {},
   "outputs": [],
   "source": [
    "f2 = lambda x, beta: beta[0] + np.sin(beta[1]*x) + np.cos(beta[2]*x)"
   ]
  },
  {
   "cell_type": "code",
   "execution_count": 60,
   "metadata": {},
   "outputs": [],
   "source": [
    "def buildF(beta, x_i, y_i):\n",
    "    #beta: arreglo de betas\n",
    "    #x_i: arreglo de x\n",
    "    #y_i: arreglo de y\n",
    "    \n",
    "    n = x_i.shape[0]\n",
    "    \n",
    "    F = np.zeros([3,1])\n",
    "    \n",
    "    for i in range(n):\n",
    "        \n",
    "        func = (y_i[i] - f2(x_i[i], beta))**3\n",
    "        \n",
    "        F[0] += func\n",
    "        F[1] += x_i[i] * np.cos(beta[1]*x_i[i]) * func\n",
    "        F[2] += x_i[i] * np.sin(beta[2]*x_i[i]) * func\n",
    "        \n",
    "    \n",
    "    return F"
   ]
  },
  {
   "cell_type": "code",
   "execution_count": 246,
   "metadata": {},
   "outputs": [],
   "source": [
    "def app_J(beta, x, y):\n",
    "    #beta: arreglo de betas\n",
    "    \n",
    "    J =  np.zeros([3,3])\n",
    "    \n",
    "    Fb = buildF(beta, x, y)\n",
    "    \n",
    "    J[0] = ((buildF([beta[0] + eps, beta[1], beta[2]], x, y) - Fb) / eps).T\n",
    "    J[1] = ((buildF([beta[0], beta[1] + eps, beta[2]], x, y) - Fb) / eps).T\n",
    "    J[2] = ((buildF([beta[0], beta[1], beta[2] + eps], x, y) - Fb) / eps).T\n",
    "    \n",
    "    #se transpone el resultado para ingresarlo correctamente a cada fila, para \n",
    "    #finalmente retornar la matriz con esos resultados como columnas\n",
    "    \n",
    "    return J.T"
   ]
  },
  {
   "cell_type": "code",
   "execution_count": 217,
   "metadata": {},
   "outputs": [],
   "source": [
    "#initial guess\n",
    "bi = np.ones(3).T"
   ]
  },
  {
   "cell_type": "markdown",
   "metadata": {},
   "source": [
    "#### 1."
   ]
  },
  {
   "cell_type": "code",
   "execution_count": 218,
   "metadata": {},
   "outputs": [
    {
     "data": {
      "text/plain": [
       "-1332.002885073915"
      ]
     },
     "execution_count": 218,
     "metadata": {},
     "output_type": "execute_result"
    }
   ],
   "source": [
    "buildF(bi,x,y)[1][0]"
   ]
  },
  {
   "cell_type": "markdown",
   "metadata": {},
   "source": [
    "#### 2."
   ]
  },
  {
   "cell_type": "code",
   "execution_count": 219,
   "metadata": {},
   "outputs": [
    {
     "data": {
      "text/plain": [
       "16783.575729300683"
      ]
     },
     "execution_count": 219,
     "metadata": {},
     "output_type": "execute_result"
    }
   ],
   "source": [
    "np.linalg.norm(app_J(bi,x,y), ord = 'fro')"
   ]
  },
  {
   "cell_type": "markdown",
   "metadata": {},
   "source": [
    "#### 3"
   ]
  },
  {
   "cell_type": "code",
   "execution_count": 254,
   "metadata": {},
   "outputs": [],
   "source": [
    "#Levenberg-Marquardt\n",
    "\n",
    "#initial guess\n",
    "bi = np.ones(3).T\n",
    "\n",
    "iteraciones = 4\n",
    "\n",
    "for it in range(iteraciones):\n",
    "    \n",
    "    Fi = buildF(bi, x, y)\n",
    "    Ji = app_J(bi, x, y)\n",
    "    \n",
    "    bi += (np.linalg.solve((Ji.T@Ji + lamb*np.eye(3)), (-Ji.T@Fi))).T[0]\n"
   ]
  },
  {
   "cell_type": "code",
   "execution_count": 256,
   "metadata": {},
   "outputs": [
    {
     "data": {
      "text/plain": [
       "1.029372373117519"
      ]
     },
     "execution_count": 256,
     "metadata": {},
     "output_type": "execute_result"
    }
   ],
   "source": [
    "bi[0]"
   ]
  },
  {
   "cell_type": "code",
   "execution_count": 268,
   "metadata": {
    "scrolled": true
   },
   "outputs": [
    {
     "data": {
      "text/plain": [
       "array([-0.02678171,  0.00060325,  0.05000367])"
      ]
     },
     "execution_count": 268,
     "metadata": {},
     "output_type": "execute_result"
    }
   ],
   "source": [
    "#Jacobi\n",
    "\n",
    "#initial guess\n",
    "bi = np.ones(3).T\n",
    "\n",
    "iteraciones = 10\n",
    "\n",
    "tol = 1e-10\n",
    "\n",
    "A = Ji.T@Ji + lamb*np.eye(3)\n",
    "b = -Ji.T@Fi\n",
    "\n",
    "L = np.tril(A, -1)\n",
    "U = np.triu(A, 1)\n",
    "D = np.diag(np.diag(A))\n",
    "\n",
    "#para obtener error\n",
    "b_prev = bi\n",
    "\n",
    "for it in range(iteraciones):\n",
    "    \n",
    "    bi = np.linalg.inv(D) @ (b[:,0] - (L + U)@b_prev)\n",
    "    \n",
    "    if np.linalg.norm(bi - b_prev) < tol:\n",
    "        break\n",
    "\n",
    "    b_prev = bi\n",
    "\n",
    "bi"
   ]
  }
 ],
 "metadata": {
  "kernelspec": {
   "display_name": "Python 3",
   "language": "python",
   "name": "python3"
  },
  "language_info": {
   "codemirror_mode": {
    "name": "ipython",
    "version": 3
   },
   "file_extension": ".py",
   "mimetype": "text/x-python",
   "name": "python",
   "nbconvert_exporter": "python",
   "pygments_lexer": "ipython3",
   "version": "3.6.9"
  }
 },
 "nbformat": 4,
 "nbformat_minor": 4
}
